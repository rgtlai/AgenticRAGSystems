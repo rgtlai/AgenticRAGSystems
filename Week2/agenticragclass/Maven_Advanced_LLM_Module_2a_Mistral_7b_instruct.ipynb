{
 "cells": [
  {
   "cell_type": "markdown",
   "metadata": {
    "id": "yEI7srEg2m24"
   },
   "source": [
    "# Installation of Libraries"
   ]
  },
  {
   "cell_type": "markdown",
   "metadata": {
    "id": "wrFlToDOEc-Q"
   },
   "source": [
    "If you use our code, please cite:\n",
    "\n",
    "@misc{2024<br>\n",
    "  title = {Mistral -7b hosting},<br>\n",
    "  author = {Hamza Farooq, Darshil Modi, Kanwal Mehreen, Nazila Shafiei},<br>\n",
    "  keywords = {LLM Hosting, Mistral-7b},<br>\n",
    "  year = {2024},<br>\n",
    "  copyright = {MIT, non-exclusive license}<br>\n",
    "}\n"
   ]
  },
  {
   "cell_type": "code",
   "execution_count": 1,
   "metadata": {
    "id": "-bYHA9zN1uxM"
   },
   "outputs": [],
   "source": [
    "from IPython.display import HTML, display\n",
    "\n",
    "def set_css(*args, **kwargs):\n",
    "  display(HTML('''\n",
    "  <style>\n",
    "    pre {\n",
    "        white-space: pre-wrap;\n",
    "    }\n",
    "  </style>\n",
    "  '''))\n",
    "get_ipython().events.register('pre_run_cell', set_css)"
   ]
  },
  {
   "cell_type": "code",
   "execution_count": 2,
   "metadata": {
    "colab": {
     "base_uri": "https://localhost:8080/",
     "height": 1000
    },
    "id": "BK5Ftcd91iEC",
    "outputId": "774e3f07-c8b9-456b-fc0a-f18f31c0fd2c"
   },
   "outputs": [
    {
     "data": {
      "text/html": [
       "\n",
       "  <style>\n",
       "    pre {\n",
       "        white-space: pre-wrap;\n",
       "    }\n",
       "  </style>\n",
       "  "
      ],
      "text/plain": [
       "<IPython.core.display.HTML object>"
      ]
     },
     "metadata": {},
     "output_type": "display_data"
    }
   ],
   "source": [
    "#!git add \"git+https://github.com/huggingface/transformers\" torch accelerate bitsandbytes langchain"
   ]
  },
  {
   "cell_type": "code",
   "execution_count": 3,
   "metadata": {
    "colab": {
     "base_uri": "https://localhost:8080/",
     "height": 17
    },
    "id": "uWV6KTMFLCa9",
    "outputId": "d232c90a-6178-4112-8e5d-e6e6217a8ebb"
   },
   "outputs": [
    {
     "data": {
      "text/html": [
       "\n",
       "  <style>\n",
       "    pre {\n",
       "        white-space: pre-wrap;\n",
       "    }\n",
       "  </style>\n",
       "  "
      ],
      "text/plain": [
       "<IPython.core.display.HTML object>"
      ]
     },
     "metadata": {},
     "output_type": "display_data"
    }
   ],
   "source": [
    "import locale\n",
    "locale.getpreferredencoding = lambda: \"UTF-8\""
   ]
  },
  {
   "cell_type": "code",
   "execution_count": 4,
   "metadata": {
    "colab": {
     "base_uri": "https://localhost:8080/",
     "height": 106
    },
    "id": "cnn7souHtRzw",
    "outputId": "103d3056-6014-4583-ea7c-b9d259bae145"
   },
   "outputs": [
    {
     "data": {
      "text/html": [
       "\n",
       "  <style>\n",
       "    pre {\n",
       "        white-space: pre-wrap;\n",
       "    }\n",
       "  </style>\n",
       "  "
      ],
      "text/plain": [
       "<IPython.core.display.HTML object>"
      ]
     },
     "metadata": {},
     "output_type": "display_data"
    }
   ],
   "source": [
    "#!pip install pyngrok --quiet\n",
    "#!pip install fastapi nest-asyncio --quiet\n",
    "#!pip install uvicorn --quiet\n",
    "#!pip install langchain-community --quiet\n",
    "#!pip install -U langchain-huggingface --quiet"
   ]
  },
  {
   "cell_type": "markdown",
   "metadata": {
    "id": "gt4C_pVd2ytp"
   },
   "source": [
    "# Setup"
   ]
  },
  {
   "cell_type": "markdown",
   "metadata": {
    "id": "0czkoqOu2gL9"
   },
   "source": [
    "Get you Hugging Face Token, [here](https://huggingface.co/settings/tokens)"
   ]
  },
  {
   "cell_type": "code",
   "execution_count": 5,
   "metadata": {
    "colab": {
     "base_uri": "https://localhost:8080/",
     "height": 17
    },
    "id": "wwSW4eIT9bzE",
    "outputId": "7d98da91-7c3d-4e79-9d6f-a120e1580266"
   },
   "outputs": [
    {
     "data": {
      "text/html": [
       "\n",
       "  <style>\n",
       "    pre {\n",
       "        white-space: pre-wrap;\n",
       "    }\n",
       "  </style>\n",
       "  "
      ],
      "text/plain": [
       "<IPython.core.display.HTML object>"
      ]
     },
     "metadata": {},
     "output_type": "display_data"
    }
   ],
   "source": [
    "#from google.colab import userdata\n",
    "#HUGGING_FACE_TOKEN = userdata.get('HUGGING_FACE_TOKEN')"
   ]
  },
  {
   "cell_type": "code",
   "execution_count": 6,
   "metadata": {
    "colab": {
     "base_uri": "https://localhost:8080/",
     "height": 142
    },
    "id": "E7XekEpq825-",
    "outputId": "276d16af-3fe9-41a8-d017-ff1cb9589506"
   },
   "outputs": [
    {
     "data": {
      "text/html": [
       "\n",
       "  <style>\n",
       "    pre {\n",
       "        white-space: pre-wrap;\n",
       "    }\n",
       "  </style>\n",
       "  "
      ],
      "text/plain": [
       "<IPython.core.display.HTML object>"
      ]
     },
     "metadata": {},
     "output_type": "display_data"
    }
   ],
   "source": [
    "#!huggingface-cli login --token $HUGGING_FACE_TOKEN"
   ]
  },
  {
   "cell_type": "code",
   "execution_count": 7,
   "metadata": {
    "colab": {
     "base_uri": "https://localhost:8080/",
     "height": 17
    },
    "id": "cXsbx5Oc23-X",
    "outputId": "d3738ae3-5b80-41e9-f9c6-8da195cb0ef4"
   },
   "outputs": [
    {
     "data": {
      "text/html": [
       "\n",
       "  <style>\n",
       "    pre {\n",
       "        white-space: pre-wrap;\n",
       "    }\n",
       "  </style>\n",
       "  "
      ],
      "text/plain": [
       "<IPython.core.display.HTML object>"
      ]
     },
     "metadata": {},
     "output_type": "display_data"
    }
   ],
   "source": [
    "# Import libraries\n",
    "from dotenv import load_dotenv\n",
    "import os\n",
    "\n",
    "load_dotenv()  # Make sure .env is in the same folder as this notebook\n",
    "token = os.getenv(\"HUGGINGFACE_HUB_TOKEN\")\n",
    "assert token, \"No HUGGINGFACE_HUB_TOKEN found in .env\"\n",
    "\n",
    "# ---- 2) Log in to Hugging Face ----\n",
    "from huggingface_hub import login, whoami\n",
    "\n",
    "login(token=token)  # Auth for this Python process\n",
    "#print(\"HF user info:\", whoami())  # Should print your username/orgs\n",
    "\n",
    "\n",
    "from transformers import AutoModelForCausalLM, AutoTokenizer , BitsAndBytesConfig\n",
    "import transformers\n",
    "import torch\n",
    "from langchain_huggingface import HuggingFacePipeline\n",
    "from langchain_core.output_parsers import StrOutputParser\n",
    "from langchain.prompts import PromptTemplate\n",
    "from threading import Thread\n",
    "\n",
    "device = 'cuda' if torch.cuda.is_available() else 'cpu'"
   ]
  },
  {
   "cell_type": "code",
   "execution_count": 8,
   "metadata": {
    "colab": {
     "base_uri": "https://localhost:8080/",
     "height": 374
    },
    "id": "fR1wJoMeLJSy",
    "outputId": "5676067a-9e86-484e-a821-154e7ca85f6c",
    "scrolled": true
   },
   "outputs": [
    {
     "data": {
      "text/html": [
       "\n",
       "  <style>\n",
       "    pre {\n",
       "        white-space: pre-wrap;\n",
       "    }\n",
       "  </style>\n",
       "  "
      ],
      "text/plain": [
       "<IPython.core.display.HTML object>"
      ]
     },
     "metadata": {},
     "output_type": "display_data"
    },
    {
     "name": "stdout",
     "output_type": "stream",
     "text": [
      "Fri Aug 15 15:47:32 2025       \n",
      "+-----------------------------------------------------------------------------------------+\n",
      "| NVIDIA-SMI 570.133.07             Driver Version: 570.133.07     CUDA Version: 12.8     |\n",
      "|-----------------------------------------+------------------------+----------------------+\n",
      "| GPU  Name                 Persistence-M | Bus-Id          Disp.A | Volatile Uncorr. ECC |\n",
      "| Fan  Temp   Perf          Pwr:Usage/Cap |           Memory-Usage | GPU-Util  Compute M. |\n",
      "|                                         |                        |               MIG M. |\n",
      "|=========================================+========================+======================|\n",
      "|   0  NVIDIA RTX A6000               Off |   00000000:68:00.0  On |                  Off |\n",
      "| 30%   39C    P8             26W /  300W |   39871MiB /  49140MiB |     32%      Default |\n",
      "|                                         |                        |                  N/A |\n",
      "+-----------------------------------------+------------------------+----------------------+\n",
      "                                                                                         \n",
      "+-----------------------------------------------------------------------------------------+\n",
      "| Processes:                                                                              |\n",
      "|  GPU   GI   CI              PID   Type   Process name                        GPU Memory |\n",
      "|        ID   ID                                                               Usage      |\n",
      "|=========================================================================================|\n",
      "|    0   N/A  N/A            2956      G   /usr/lib/xorg/Xorg                      348MiB |\n",
      "|    0   N/A  N/A            3174      G   /usr/bin/gnome-shell                    153MiB |\n",
      "|    0   N/A  N/A            3781      G   ...exec/xdg-desktop-portal-gnome         67MiB |\n",
      "|    0   N/A  N/A            4010      G   ...chrome https://ubuntu.com/pro          4MiB |\n",
      "|    0   N/A  N/A            4059      G   ...ersion=20250714-050047.266000        296MiB |\n",
      "|    0   N/A  N/A            5402      G   /usr/bin/gnome-control-center            30MiB |\n",
      "|    0   N/A  N/A           10887      G   /usr/bin/nautilus                        52MiB |\n",
      "|    0   N/A  N/A           54905      G   ...ess --variations-seed-version         37MiB |\n",
      "|    0   N/A  N/A           60911      C   ...stems/Week2/.venv/bin/python3      38688MiB |\n",
      "|    0   N/A  N/A           69543      G   ...nap-store/1270/bin/snap-store         55MiB |\n",
      "+-----------------------------------------------------------------------------------------+\n"
     ]
    }
   ],
   "source": [
    "!nvidia-smi"
   ]
  },
  {
   "cell_type": "code",
   "execution_count": 9,
   "metadata": {
    "colab": {
     "base_uri": "https://localhost:8080/",
     "height": 17
    },
    "id": "4l3e5har26Gx",
    "outputId": "8ea4a7e3-be8a-4a0b-8d5b-456ec93d4a85"
   },
   "outputs": [
    {
     "data": {
      "text/html": [
       "\n",
       "  <style>\n",
       "    pre {\n",
       "        white-space: pre-wrap;\n",
       "    }\n",
       "  </style>\n",
       "  "
      ],
      "text/plain": [
       "<IPython.core.display.HTML object>"
      ]
     },
     "metadata": {},
     "output_type": "display_data"
    }
   ],
   "source": [
    "import textwrap\n",
    "\n",
    "def wrap_text(text, width=90): #preserve_newlines\n",
    "    # Split the input text into lines based on newline characters\n",
    "    lines = text.split('\\n')\n",
    "\n",
    "    # Wrap each line individually\n",
    "    wrapped_lines = [textwrap.fill(line, width=width) for line in lines]\n",
    "\n",
    "    # Join the wrapped lines back together using newline characters\n",
    "    wrapped_text = '\\n'.join(wrapped_lines)\n",
    "\n",
    "    return wrapped_text"
   ]
  },
  {
   "cell_type": "markdown",
   "metadata": {
    "id": "Aiw2SEeN3BGU"
   },
   "source": [
    "# Basic Prompt"
   ]
  },
  {
   "cell_type": "markdown",
   "metadata": {
    "id": "kzP7lFYo6L_f"
   },
   "source": [
    "**Note:** If you are on windows then bitsandbytes won't work. You can counter this with bitsandbytes-windows but that is and older version that only supports 8-bit quantization."
   ]
  },
  {
   "cell_type": "code",
   "execution_count": 10,
   "metadata": {
    "colab": {
     "base_uri": "https://localhost:8080/",
     "height": 494,
     "referenced_widgets": [
      "87dd04ef0a264ee7a0ba4d94a10041d8",
      "c0330592decb4e6f86069dd6519b7e12",
      "42b94e96d2f7456b8f1f0f8f74eeef19",
      "40b7eb18f1b24fb9844f328da807e83f",
      "dabaad37ec154fd79bc60388eee56b33",
      "1b2c6f4fbd54494ca5c6412872bec9b1",
      "e0d997c8519546ca93fe930148280556",
      "3ff7de5a7ce24f35830cf24994c8c45e",
      "9349994b18a44b3b89b78a5a3a0b9703",
      "cc18a68e9c6043a896389c159ba82108",
      "ba766944a87f4fa8a6e49998f755205f",
      "99c7ea162fcb493c9394d5439616d4c0",
      "c1e261e523ff4df1b4ee29dcc370edf3",
      "ef33309695bb4ff59956653b5affd3f3",
      "c106fd0a54ce43de955c163211f883e4",
      "6471d107874542c6af4432be3f3467c9",
      "89724c11c1eb459789374c2cf31daeab",
      "64ea101e0ee8478691d7043f77d7c946",
      "b011545abea9461387e4bb705eb592b6",
      "788fa0425bd047c6ab9d98178c31ae32",
      "13aa3bed42924caba2020d015d2e7212",
      "6d4e2131009047bf9465743a06d19786",
      "aef3a466f9ea4eca8b807e0de31c6b46",
      "32d65e8ed59d418baf217e6fb50a26c1",
      "373339f98b26439cb1b234263d5a9cc2",
      "b5a4633fe28845c3bf1c93875222bfea",
      "8e880ecb3ed04bb18912f1540f5bcb24",
      "01173ff427534c968648e59e999ab295",
      "f1a8e40773724fdb8feee7cb190f2a81",
      "cc237b1ed3b1428b8d4d0bb888331d97",
      "3bdec08a9fd14af2b525281f7d9ac124",
      "9d96e272c3314ccabe3eb25b502aa0ac",
      "9bf6d25101434c1893448827bd5eaa64",
      "26ace7f584804a538d7e8b8a24916309",
      "a9a252107ce74b07b2f04017ed3c1699",
      "23e877a706ad46c196940a0767b6793f",
      "61f2bb9bdf834f8d9cb0281f05ad7bac",
      "a470f0ccca6a4628ada632a3f5254bdd",
      "b7e061a09329449cbbf595aad19ad733",
      "5d006072f0664dcdb1e4fd25b647ffdc",
      "fda092637f474b94bbaa2cb508840e1e",
      "060346d737d3411a89a7e58367c8d240",
      "1f27c73af798490c8affadde157b1964",
      "f668b85222b04f19b7ba66a01cf39b6e",
      "5e247d8adfe24c0aa01bfb1de82dbf9d",
      "b2fe43cdd2d14f34be9302fef70b365d",
      "2feca6928dc9428387500e4827eaada9",
      "1d66ed196fc34aeb9d069796f031c1b3",
      "99c12350c2c54d3a8fde33aa3782cead",
      "b554c238c93842299fee030e08cda479",
      "b19670f9a3304e9f81ff552ae8284cc9",
      "bbbd718cc0b04b96adef602cbeda4a03",
      "6c52e84a79cf4bf787efacbafa7082de",
      "d10d8585e3864b6d9e6329a76be6940e",
      "1cff64a45dc640d293f4f10f185de6ea",
      "b6488392ecfd4cc3a3186014ebe9fb33",
      "3749dccc6f6546f5b6e7b4486350370f",
      "bfaa1923cfb24a0187d368305ce99b9d",
      "1286c08f959b4b81a307fdf65c893e74",
      "53ed1fe41b3b47d48d10e562ba92d42e",
      "cfb01d7672b540ba84200a2eac5fb794",
      "42cb8a7011ea48a2a18b07e14a7b1026",
      "2b4dd813cbc3496a93bca8f780c092d4",
      "cfc9917b0e314dddba07595e1fcb0b03",
      "425d10b1620c475391cc47b51c38a141",
      "92d5cd6e56f1418f875eb2bf837fd26c",
      "6b8153e6c5a3487b97df1298bf5cf7bc",
      "c1b776ff069c4750b69cd7c33b99c835",
      "fc7cf171f1684e3e9bd170d3937e44f5",
      "eff4370bd66a4d6d995278995fa23605",
      "4cf20be870934fafa221957cf5e90c7d",
      "2e10db2a371241b8af19b4b458e8d695",
      "32f98eec51764323ba6bdac9a6adbf2e",
      "468957607d174967b6cbc280b5b1ef4d",
      "4965140f1e544abe9f5f2210b5e46f37",
      "2a9ccb75e8c64f6a901c96d2a09ebc88",
      "4ae41471f1d0485c946058d2940b9955",
      "8c8a6f5fd6804328870047fa5fcd3b1a",
      "b8849bb0e55a404dbd67676d190c1593",
      "66b8e1c86ba848f79f67546af812f98a",
      "3fb6c60732fd465cb20f4df41f31ce39",
      "ec2bbf177e2d464c881b394c6fc34440",
      "6475888e375c47e497f60af135757e45",
      "3a2b1486268f4a75898f56018e2109b2",
      "a1cbe320dab64fa7b67a8ab68a7c2b5d",
      "5ee055d6a7ff48ff86b10169cbe62201",
      "0a1619c771214ba9bfe7b55e4f91de3c",
      "d4822d0e6ef54c9fbd1b7fd7dd5487eb",
      "7eb59566c18c4b1fb51cddba3e8997e9",
      "df24452e1e0645e48f1262011fd098e0",
      "690e8155d8c44cdd9c7fd3ee520e2b50",
      "bcb0561cb16c40d184b55e72dfe522e4",
      "a7281ec6c038471bb6461f796116ae68",
      "b1a058598ba9470590d3c9eb9fe53ea5",
      "90dba0c3003a4772b2d1d094c70b31a9",
      "decd22915fa2445c909526254c9fb26e",
      "4cc58f4cf4d54485a6f49bbbc49c58ac",
      "f4e9acdc4e45483fb256a71fb39fb78b",
      "f2e91321309b44dfa0a8905970772c68",
      "8ae06a5add7d4d12827c9a419fcf6999",
      "657914cb1ab245cb9ef6cc14165061a8",
      "78dabb31246640819b69552cb1455705",
      "64db26e13a1f4328bfc8d28fc853827c",
      "2bca9c6d77f74bb9b12efd1e859063df",
      "b57021d29f5f44dd8a9cddc9b82d5922",
      "b2f49e44d0d3448da146707e50be387b",
      "67102baa84ac4729bdbe5e75ce8f2cd3",
      "8238211e8e8c4a16869652f679583869",
      "185f9690581d4fdfa353c39ecc5daa38",
      "1cf1928132374a9e9d39c8b9e6a3b551",
      "219777ed73c6422ca61e9a74cb74da4c",
      "266c33c19e6a4d65b263bbfd5c8b6c4c",
      "948924057d3d4f6b905e69a760467f3a",
      "b4ec396e814049d688b8491521d451b1",
      "f7c11929510b480d85f3be326afb049c",
      "16f9beebd23e483481f801f71d52ab84",
      "75304bc3c0244f04b97e80d81c85c1ef",
      "03d8e87684a541bda189a274f41623c7",
      "750cf5a1ef394a5cab5e6c7360d4609b",
      "eb9f2e775e6b469b8157e2c73d44b510",
      "f95c74e545bb4809866b306e9d256272"
     ]
    },
    "id": "gX0aW4T_3JNc",
    "outputId": "56020a56-3019-49d0-d7d8-9ffd06156eb6"
   },
   "outputs": [
    {
     "data": {
      "text/html": [
       "\n",
       "  <style>\n",
       "    pre {\n",
       "        white-space: pre-wrap;\n",
       "    }\n",
       "  </style>\n",
       "  "
      ],
      "text/plain": [
       "<IPython.core.display.HTML object>"
      ]
     },
     "metadata": {},
     "output_type": "display_data"
    },
    {
     "name": "stdout",
     "output_type": "stream",
     "text": [
      "env: HF_HOME=/mnt/sda1/huggingface\n"
     ]
    },
    {
     "data": {
      "application/vnd.jupyter.widget-view+json": {
       "model_id": "fd52ac2e6f8c418d87a7fe93766703f8",
       "version_major": 2,
       "version_minor": 0
      },
      "text/plain": [
       "Loading checkpoint shards:   0%|          | 0/2 [00:00<?, ?it/s]"
      ]
     },
     "metadata": {},
     "output_type": "display_data"
    }
   ],
   "source": [
    "# Define the model ID for the desired model\n",
    "%env HF_HOME=/mnt/sda1/huggingface\n",
    "from dotenv import load_dotenv\n",
    "load_dotenv()\n",
    "import os\n",
    "\n",
    "model_id = \"mistralai/Mistral-7B-Instruct-v0.1\"\n",
    "\n",
    "# Define the quantization configuration for the model\n",
    "quantization_config = BitsAndBytesConfig(\n",
    "    load_in_4bit=True,\n",
    "    bnb_4bit_compute_dtype=torch.bfloat16\n",
    ")\n",
    "\n",
    "# Load the model using the model ID and quantization configuration\n",
    "model = AutoModelForCausalLM.from_pretrained(model_id, quantization_config=quantization_config, device_map='auto', token=os.getenv(\"HUGGINGFACE_HUB_TOKEN\"))\n",
    "\n",
    "# Load the tokenizer associated with the model\n",
    "tokenizer = AutoTokenizer.from_pretrained(model_id)"
   ]
  },
  {
   "cell_type": "code",
   "execution_count": 11,
   "metadata": {
    "colab": {
     "base_uri": "https://localhost:8080/",
     "height": 213
    },
    "id": "U4t-7RRV3xcz",
    "outputId": "637730e5-7c49-4b68-b819-94b2943b63ea"
   },
   "outputs": [
    {
     "data": {
      "text/html": [
       "\n",
       "  <style>\n",
       "    pre {\n",
       "        white-space: pre-wrap;\n",
       "    }\n",
       "  </style>\n",
       "  "
      ],
      "text/plain": [
       "<IPython.core.display.HTML object>"
      ]
     },
     "metadata": {},
     "output_type": "display_data"
    },
    {
     "name": "stdout",
     "output_type": "stream",
     "text": [
      "[\"<s> \\n### [INST]\\nInstruction: Act as a gourmet chef.\\n\\n\\n### QUESTION:\\nwhat is the best chicken dish for large groups\\n\\n[/INST]\\n \\nWhen it comes to cooking for a group, chicken is always a great option as it is both flavorful and versatile, and can be prepared in a wide variety of ways. Here are a few large group chicken dishes that are sure to impress:\\n\\n1. Chicken Fried Rice:\\nChicken Fried Rice is a classic Chinese dish that is easy to prepare for a large group. Simply cook the chicken in a wok or large frying pan until it is well-cooked, then set it aside. In the same wok or pan, sauté chopped vegetables and scrambled eggs, then add the cooked chicken and cook it for an additional 2 minutes. Serve the chicken fried rice hot with your choice of garnishes.\\n\\n2. Grilled Chicken Skewers:\\nGrilled chicken skewers are a great choice for a summer outdoor event or a casual backyard BBQ. Marinate the chicken strips in a mixture of olive oil, lemon juice, herbs, and spices for a few hours before grilling. Once the chicken is cooked, thread it onto skewers, along with any vegetables you enjoy like bell peppers, mushrooms, and onions. Serve the grilled chicken skewers with a side of tzatziki or another refreshing dip.\\n\\n3. Chicken Parmesan:\\nChicken Parmesan is an Italian classic that can be customized to suit the tastes of your group. Start by coating thin slices of chicken in panko crumbs, then bake or fry them until crispy. Serve the chicken on a bed of marinara sauce and topped with a generous layer of melted mozzarella cheese, followed by grated parmesan cheese. Bake until the cheese is bubbly and melted, then serve with pasta and garlic bread.\\n\\n4. Chicken Tacos:\\nTacos are a fun and flavorful dish that can be customized to suit the tastes of your group. Start by cooking shredded chicken in a spicy tomato sauce, then add any toppings you like such as chopped vegetables, shredded cheese, and sour cream. Serve the chicken tacos in warm tortillas or over lettuce wraps, and don't forget the fresh salsa and guacamole on the side!\\n\\nOverall, chicken is a great option for large group meals, as it is versatile and flavorful, and can be prepared in a wide variety of ways. Whether you're hosting a summer BBQ or a winter cookout, one of these chicken dishes</s>\"]\n"
     ]
    }
   ],
   "source": [
    "vegetarian_recipe_prompt = \"\"\"### Instruction: Act as a gourmet chef.\n",
    "what is the best chicken dish for large groups\n",
    "\n",
    " ### Answer:\n",
    " \"\"\"\n",
    "prompt_template = \"\"\"\n",
    "### [INST]\n",
    "Instruction: Act as a gourmet chef.\n",
    "\n",
    "\n",
    "### QUESTION:\n",
    "what is the best chicken dish for large groups\n",
    "\n",
    "[/INST]\n",
    " \"\"\"\n",
    "\n",
    "# Encode the instruction using the tokenizer\n",
    "encoded_instruction = tokenizer(prompt_template, return_tensors=\"pt\", add_special_tokens=True)\n",
    "\n",
    "# Move the encoded instruction to the appropriate device (e.g., GPU)\n",
    "model_inputs = encoded_instruction.to(device)\n",
    "\n",
    "# Generate text based on the model inputs\n",
    "generated_ids = model.generate(**model_inputs, max_new_tokens=1000, do_sample=True, pad_token_id=tokenizer.eos_token_id)\n",
    "\n",
    "# Decode the generated text\n",
    "decoded = tokenizer.batch_decode(generated_ids)\n",
    "\n",
    "# Print the decoded output\n",
    "print(decoded)"
   ]
  },
  {
   "cell_type": "code",
   "execution_count": 12,
   "metadata": {
    "colab": {
     "base_uri": "https://localhost:8080/",
     "height": 267
    },
    "id": "ndwia8c3iqCI",
    "outputId": "739ccd79-7b22-4c5a-f636-d190667492f0"
   },
   "outputs": [
    {
     "data": {
      "text/html": [
       "\n",
       "  <style>\n",
       "    pre {\n",
       "        white-space: pre-wrap;\n",
       "    }\n",
       "  </style>\n",
       "  "
      ],
      "text/plain": [
       "<IPython.core.display.HTML object>"
      ]
     },
     "metadata": {},
     "output_type": "display_data"
    },
    {
     "name": "stdout",
     "output_type": "stream",
     "text": [
      "When it comes to cooking for a group, chicken is always a great option as it is both flavorful and versatile, and can be prepared in a wide variety of ways. Here are a few large group chicken dishes that are sure to impress:\n",
      "\n",
      "1. Chicken Fried Rice:\n",
      "Chicken Fried Rice is a classic Chinese dish that is easy to prepare for a large group. Simply cook the chicken in a wok or large frying pan until it is well-cooked, then set it aside. In the same wok or pan, sauté chopped vegetables and scrambled eggs, then add the cooked chicken and cook it for an additional 2 minutes. Serve the chicken fried rice hot with your choice of garnishes.\n",
      "\n",
      "2. Grilled Chicken Skewers:\n",
      "Grilled chicken skewers are a great choice for a summer outdoor event or a casual backyard BBQ. Marinate the chicken strips in a mixture of olive oil, lemon juice, herbs, and spices for a few hours before grilling. Once the chicken is cooked, thread it onto skewers, along with any vegetables you enjoy like bell peppers, mushrooms, and onions. Serve the grilled chicken skewers with a side of tzatziki or another refreshing dip.\n",
      "\n",
      "3. Chicken Parmesan:\n",
      "Chicken Parmesan is an Italian classic that can be customized to suit the tastes of your group. Start by coating thin slices of chicken in panko crumbs, then bake or fry them until crispy. Serve the chicken on a bed of marinara sauce and topped with a generous layer of melted mozzarella cheese, followed by grated parmesan cheese. Bake until the cheese is bubbly and melted, then serve with pasta and garlic bread.\n",
      "\n",
      "4. Chicken Tacos:\n",
      "Tacos are a fun and flavorful dish that can be customized to suit the tastes of your group. Start by cooking shredded chicken in a spicy tomato sauce, then add any toppings you like such as chopped vegetables, shredded cheese, and sour cream. Serve the chicken tacos in warm tortillas or over lettuce wraps, and don't forget the fresh salsa and guacamole on the side!\n",
      "\n",
      "Overall, chicken is a great option for large group meals, as it is versatile and flavorful, and can be prepared in a wide variety of ways. Whether you're hosting a summer BBQ or a winter cookout, one of these chicken dishes\n"
     ]
    }
   ],
   "source": [
    "response = decoded[0].split(\"[/INST]\")[1]\n",
    "print((response.split('</s>')[0]).strip())"
   ]
  },
  {
   "cell_type": "markdown",
   "metadata": {
    "id": "MPRtlmVR8DmS"
   },
   "source": [
    "# Creating LLM Chain to run a RAG prompt\n"
   ]
  },
  {
   "cell_type": "code",
   "execution_count": 13,
   "metadata": {
    "colab": {
     "base_uri": "https://localhost:8080/",
     "height": 35
    },
    "id": "29QDajQB6VfC",
    "outputId": "5b15a836-1176-4379-f6f3-c6060103b527"
   },
   "outputs": [
    {
     "data": {
      "text/html": [
       "\n",
       "  <style>\n",
       "    pre {\n",
       "        white-space: pre-wrap;\n",
       "    }\n",
       "  </style>\n",
       "  "
      ],
      "text/plain": [
       "<IPython.core.display.HTML object>"
      ]
     },
     "metadata": {},
     "output_type": "display_data"
    },
    {
     "name": "stderr",
     "output_type": "stream",
     "text": [
      "Device set to use cuda:0\n"
     ]
    }
   ],
   "source": [
    "\n",
    "text_generation_pipeline = transformers.pipeline(\n",
    "    model=model,\n",
    "    tokenizer=tokenizer,\n",
    "    task=\"text-generation\",  # Specify the task as text generation\n",
    "    temperature=0.3,  # Temperature parameter for controlling randomness in sampling\n",
    "    repetition_penalty=1.1,  # Repetition penalty parameter to avoid repeating tokens\n",
    "    return_full_text=True,  # Flag to return full text instead of a list of generated tokens\n",
    "    max_new_tokens=1000,  # Maximum number of tokens to generate\n",
    "    do_sample=True  # Flag to use sampling during text generation\n",
    ")\n",
    "\n",
    "prompt_template = \"\"\"\n",
    "### [INST]\n",
    "Instruction: I will ask you a QUESTION and give you a CONTEXT and you will respond with an answer easily understandable.\n",
    "\n",
    "### CONTEXT:\n",
    "{context}\n",
    "\n",
    "### QUESTION:\n",
    "{question}\n",
    "\n",
    "[/INST]\n",
    " \"\"\"\n",
    "\n",
    "# Create HuggingFacePipeline object wrapping the text generation pipeline\n",
    "mistral_llm = HuggingFacePipeline(pipeline=text_generation_pipeline)\n",
    "\n",
    "# Create prompt object from the prompt template with input variables as context and question\n",
    "prompt = PromptTemplate(\n",
    "    input_variables=[\"context\", \"question\"],  # Specify input variables for the prompt\n",
    "    template=prompt_template,  # Specify the template for the prompt\n",
    ")\n",
    "\n",
    "# Create language model chain (llm_chain) with HuggingFacePipeline and prompt\n",
    "llm_chain = prompt | mistral_llm | StrOutputParser()\n"
   ]
  },
  {
   "cell_type": "code",
   "execution_count": 14,
   "metadata": {
    "colab": {
     "base_uri": "https://localhost:8080/",
     "height": 17
    },
    "id": "l3AGfBZ9HZIA",
    "outputId": "418ed58c-4d48-4a07-fc90-53207a4c3bad"
   },
   "outputs": [
    {
     "data": {
      "text/html": [
       "\n",
       "  <style>\n",
       "    pre {\n",
       "        white-space: pre-wrap;\n",
       "    }\n",
       "  </style>\n",
       "  "
      ],
      "text/plain": [
       "<IPython.core.display.HTML object>"
      ]
     },
     "metadata": {},
     "output_type": "display_data"
    }
   ],
   "source": [
    "prompt_base = \"\"\"\n",
    "### [INST]\n",
    "Instruction: Act as a gourmet chef.\n",
    "\n",
    "\n",
    "### QUESTION:\n",
    "what is the best chicken dish for large groups\n",
    "\n",
    "[/INST]\n",
    " \"\"\"\n"
   ]
  },
  {
   "cell_type": "code",
   "execution_count": 15,
   "metadata": {
    "colab": {
     "base_uri": "https://localhost:8080/",
     "height": 35
    },
    "id": "hoJOVXsKHQuB",
    "outputId": "91f26bf9-4915-4402-846d-22202b76d1ab"
   },
   "outputs": [
    {
     "data": {
      "text/html": [
       "\n",
       "  <style>\n",
       "    pre {\n",
       "        white-space: pre-wrap;\n",
       "    }\n",
       "  </style>\n",
       "  "
      ],
      "text/plain": [
       "<IPython.core.display.HTML object>"
      ]
     },
     "metadata": {},
     "output_type": "display_data"
    },
    {
     "name": "stderr",
     "output_type": "stream",
     "text": [
      "Setting `pad_token_id` to `eos_token_id`:2 for open-end generation.\n"
     ]
    }
   ],
   "source": [
    "response=text_generation_pipeline(prompt_base)"
   ]
  },
  {
   "cell_type": "code",
   "execution_count": 16,
   "metadata": {
    "colab": {
     "base_uri": "https://localhost:8080/",
     "height": 178
    },
    "id": "TpR_4pOmIS32",
    "outputId": "37129505-1600-4431-a7d9-400a2848314f"
   },
   "outputs": [
    {
     "data": {
      "text/html": [
       "\n",
       "  <style>\n",
       "    pre {\n",
       "        white-space: pre-wrap;\n",
       "    }\n",
       "  </style>\n",
       "  "
      ],
      "text/plain": [
       "<IPython.core.display.HTML object>"
      ]
     },
     "metadata": {},
     "output_type": "display_data"
    },
    {
     "data": {
      "text/plain": [
       "[{'generated_text': '\\n### [INST]\\nInstruction: Act as a gourmet chef.\\n\\n\\n### QUESTION:\\nwhat is the best chicken dish for large groups\\n\\n[/INST]\\n \\nAs a gourmet chef, I would recommend roasting a whole chicken for a large group. This classic dish is not only delicious but also easy to prepare and serve. To make it even more special, you can add some herbs and spices to the chicken before roasting it in the oven. You can also serve it with a side of roasted vegetables or a fresh salad. Another option is to make a chicken pot pie, which is a comforting and hearty dish that everyone will love.'}]"
      ]
     },
     "execution_count": 16,
     "metadata": {},
     "output_type": "execute_result"
    }
   ],
   "source": [
    "response"
   ]
  },
  {
   "cell_type": "code",
   "execution_count": 17,
   "metadata": {
    "colab": {
     "base_uri": "https://localhost:8080/",
     "height": 17
    },
    "id": "Vuk67v2iHoMV",
    "outputId": "18d551c4-9a3e-475e-80e3-a8ad1d0b7615"
   },
   "outputs": [
    {
     "data": {
      "text/html": [
       "\n",
       "  <style>\n",
       "    pre {\n",
       "        white-space: pre-wrap;\n",
       "    }\n",
       "  </style>\n",
       "  "
      ],
      "text/plain": [
       "<IPython.core.display.HTML object>"
      ]
     },
     "metadata": {},
     "output_type": "display_data"
    }
   ],
   "source": [
    "r=response[0].get('generated_text').split(\"[/INST]\")[1].split('</s>')[0]\n"
   ]
  },
  {
   "cell_type": "code",
   "execution_count": 18,
   "metadata": {
    "colab": {
     "base_uri": "https://localhost:8080/",
     "height": 481
    },
    "id": "COOuu6uSIJcV",
    "outputId": "305a8300-503c-4d13-c9a1-e645e605b1c2"
   },
   "outputs": [
    {
     "data": {
      "text/html": [
       "\n",
       "  <style>\n",
       "    pre {\n",
       "        white-space: pre-wrap;\n",
       "    }\n",
       "  </style>\n",
       "  "
      ],
      "text/plain": [
       "<IPython.core.display.HTML object>"
      ]
     },
     "metadata": {},
     "output_type": "display_data"
    },
    {
     "name": "stdout",
     "output_type": "stream",
     "text": [
      "As a gourmet chef, I would recommend roasting a whole chicken for a large group. This classic dish is not only delicious but also easy to prepare and serve. To make it even more special, you can add some herbs and spices to the chicken before roasting it in the oven. You can also serve it with a side of roasted vegetables or a fresh salad. Another option is to make a chicken pot pie, which is a comforting and hearty dish that everyone will love.\n"
     ]
    }
   ],
   "source": [
    "print(r.strip())"
   ]
  },
  {
   "cell_type": "code",
   "execution_count": 19,
   "metadata": {
    "colab": {
     "base_uri": "https://localhost:8080/",
     "height": 428
    },
    "id": "sUwY2IEM9pq3",
    "outputId": "c8eac2d5-4820-483f-8f9a-52184a2af3cd"
   },
   "outputs": [
    {
     "data": {
      "text/html": [
       "\n",
       "  <style>\n",
       "    pre {\n",
       "        white-space: pre-wrap;\n",
       "    }\n",
       "  </style>\n",
       "  "
      ],
      "text/plain": [
       "<IPython.core.display.HTML object>"
      ]
     },
     "metadata": {},
     "output_type": "display_data"
    },
    {
     "name": "stderr",
     "output_type": "stream",
     "text": [
      "Setting `pad_token_id` to `eos_token_id`:2 for open-end generation.\n"
     ]
    },
    {
     "name": "stdout",
     "output_type": "stream",
     "text": [
      "The answer is: \n",
      " \n",
      "### [INST]\n",
      "Instruction: I will ask you a QUESTION and give you a CONTEXT and you will respond with an\n",
      "answer easily understandable.\n",
      "\n",
      "### CONTEXT:\n",
      "Artificial Intelligence (AI) is the stream of data science that can predict future based\n",
      "on past trends!\n",
      "\n",
      "### QUESTION:\n",
      "What is AI ?\n",
      "\n",
      "[/INST]\n",
      "\n",
      "Artificial Intelligence, commonly known as AI, refers to the development of computer\n",
      "systems that are able to perform tasks that would normally require human intelligence,\n",
      "such as visual perception, speech recognition, decision-making, and language translation.\n",
      "These systems use algorithms, machine learning techniques, and other advanced methods to\n",
      "analyze and process large amounts of data in order to make predictions or take actions\n",
      "based on that data. In essence, AI allows machines to learn from experience and adapt to\n",
      "new situations, making them increasingly capable of performing complex tasks autonomously.\n"
     ]
    }
   ],
   "source": [
    "# Input query to LLM\n",
    "input_text = {\n",
    "    \"context\": \"Artificial Intelligence (AI) is the stream of data science that can predict future based on past trends!\",\n",
    "    \"question\": \"What is AI ?\"\n",
    "}\n",
    "\n",
    "# Generate and print LLM response\n",
    "response = llm_chain.invoke(input_text)\n",
    "\n",
    "wrapped_text = wrap_text(response)\n",
    "print(f'The answer is: \\n {wrapped_text}')"
   ]
  },
  {
   "cell_type": "code",
   "execution_count": 20,
   "metadata": {
    "colab": {
     "base_uri": "https://localhost:8080/",
     "height": 17
    },
    "id": "2Ah-zbzQLsgt",
    "outputId": "0ef9b700-e839-4102-e921-3e1d89f76c2c"
   },
   "outputs": [
    {
     "data": {
      "text/html": [
       "\n",
       "  <style>\n",
       "    pre {\n",
       "        white-space: pre-wrap;\n",
       "    }\n",
       "  </style>\n",
       "  "
      ],
      "text/plain": [
       "<IPython.core.display.HTML object>"
      ]
     },
     "metadata": {},
     "output_type": "display_data"
    }
   ],
   "source": [
    "##############\n",
    "question_rag = \"What are the differences in work expectations between generations?\"\n",
    "##############\n",
    "\n",
    "\n",
    "context_rag = \"\"\"\n",
    "'Generational differences in work expectations and values are a significant topic of discussion in organizations today. Specifically, the differences between baby boomers and millennials have garnered attention due to their coexistence in the workplace. These generational differences can impact management dynamics at various levels, including operational, team, and strategic levels. Understanding these differences and finding ways to navigate them is crucial for creating a harmonious and productive work environment.\n",
    "\n",
    "1. Contrasting Work Values, Attitudes, and Preferences:\n",
    "Baby Boomers:\n",
    "- Work Values: Baby boomers tend to prioritize loyalty, dedication, and hard work. They often value stability and long-term commitment to their organizations.\n",
    "- Attitudes: Baby boomers may have a more traditional approach to work, valuing hierarchy and authority. They may prefer a structured work environment and clear guidelines.\n",
    "- Preferences: Baby boomers may prefer face-to-face communication and value personal relationships in the workplace. They may also prioritize financial stability and job security.\n",
    "\n",
    "Millennials:\n",
    "- Work Values: Millennials often prioritize work-life balance, personal growth, and purpose-driven work. They seek opportunities for learning and development.\n",
    "- Attitudes: Millennials may have a more collaborative and inclusive approach to work. They value flexibility, autonomy, and a sense of purpose in their roles.\n",
    "- Preferences: Millennials are comfortable with technology and may prefer digital communication channels. They value feedback and recognition and seek a positive and engaging work environment.\n",
    "\n",
    "2. Factors Contributing to Variations:\n",
    "a) Socioeconomic Factors: Socioeconomic factors such as technological advancements, economic conditions, and societal changes can shape the expectations and values of different generations. For example, baby boomers experienced significant economic growth and stability, while millennials entered the workforce during times of economic uncertainty.\n",
    "b) Cultural Influences: Cultural factors, including societal norms, values, and beliefs, can also contribute to generational differences. Each generation grows up in a unique cultural context that influences their perspectives on work.\n",
    "c) Life Experiences: Different life experiences, such as major historical events or technological advancements, can shape the values and attitudes of each generation. For example, baby boomers may have experienced significant social and political changes, while millennials grew up in the digital age.\n",
    "\n",
    "3. Practical Scenarios and Examples:\n",
    "To illustrate these generational differences, consider the following scenarios:\n",
    "- Baby boomers may prefer a structured work environment with clear hierarchies, while millennials may thrive in a more flexible and collaborative setting.\n",
    "- Baby boomers may prioritize job security and financial stability, while millennials may prioritize personal growth and work-life balance.\n",
    "- Baby boomers may prefer face-to-face communication, while millennials may be more comfortable with digital communication tools.\n",
    "\n",
    "4. Navigating Generational Differences:\n",
    "To create a harmonious and productive work environment, organizations can consider the following strategies:\n",
    "- Foster open communication and create opportunities for intergenerational dialogue and understanding.\n",
    "- Provide flexible work arrangements and opportunities for personal growth and development.\n",
    "- Recognize and appreciate the diverse perspectives and strengths that each generation brings to the table.\n",
    "- Implement mentorship or reverse-mentoring programs to facilitate knowledge sharing and collaboration between different generations.\n",
    "- Create a culture of inclusivity and respect, valuing the contributions of all employees regardless of their generational background.\n",
    "\n",
    "In summary, generational differences in work expectations and values exist between baby boomers and millennials. These differences can be attributed to various factors such as socioeconomic influences, cultural factors, and life experiences. Understanding and navigating these differences is crucial for organizations to create a harmonious and productive work environment. By fostering open communication, providing flexibility, and appreciating the diverse perspectives of each generation, organizations can effectively manage generational differences and leverage the strengths of their multi-generational workforce.'\n",
    "\"\"\""
   ]
  },
  {
   "cell_type": "code",
   "execution_count": 21,
   "metadata": {
    "colab": {
     "base_uri": "https://localhost:8080/",
     "height": 1000
    },
    "id": "2jmgqJQ7LyQH",
    "outputId": "1b07af4a-5039-402b-95bc-8baad8635cdb"
   },
   "outputs": [
    {
     "data": {
      "text/html": [
       "\n",
       "  <style>\n",
       "    pre {\n",
       "        white-space: pre-wrap;\n",
       "    }\n",
       "  </style>\n",
       "  "
      ],
      "text/plain": [
       "<IPython.core.display.HTML object>"
      ]
     },
     "metadata": {},
     "output_type": "display_data"
    },
    {
     "name": "stderr",
     "output_type": "stream",
     "text": [
      "Setting `pad_token_id` to `eos_token_id`:2 for open-end generation.\n"
     ]
    },
    {
     "name": "stdout",
     "output_type": "stream",
     "text": [
      "The answer is: \n",
      " \n",
      "### [INST]\n",
      "Instruction: I will ask you a QUESTION and give you a CONTEXT and you will respond with an\n",
      "answer easily understandable.\n",
      "\n",
      "### CONTEXT:\n",
      "\n",
      "'Generational differences in work expectations and values are a significant topic of\n",
      "discussion in organizations today. Specifically, the differences between baby boomers and\n",
      "millennials have garnered attention due to their coexistence in the workplace. These\n",
      "generational differences can impact management dynamics at various levels, including\n",
      "operational, team, and strategic levels. Understanding these differences and finding ways\n",
      "to navigate them is crucial for creating a harmonious and productive work environment.\n",
      "\n",
      "1. Contrasting Work Values, Attitudes, and Preferences:\n",
      "Baby Boomers:\n",
      "- Work Values: Baby boomers tend to prioritize loyalty, dedication, and hard work. They\n",
      "often value stability and long-term commitment to their organizations.\n",
      "- Attitudes: Baby boomers may have a more traditional approach to work, valuing hierarchy\n",
      "and authority. They may prefer a structured work environment and clear guidelines.\n",
      "- Preferences: Baby boomers may prefer face-to-face communication and value personal\n",
      "relationships in the workplace. They may also prioritize financial stability and job\n",
      "security.\n",
      "\n",
      "Millennials:\n",
      "- Work Values: Millennials often prioritize work-life balance, personal growth, and\n",
      "purpose-driven work. They seek opportunities for learning and development.\n",
      "- Attitudes: Millennials may have a more collaborative and inclusive approach to work.\n",
      "They value flexibility, autonomy, and a sense of purpose in their roles.\n",
      "- Preferences: Millennials are comfortable with technology and may prefer digital\n",
      "communication channels. They value feedback and recognition and seek a positive and\n",
      "engaging work environment.\n",
      "\n",
      "2. Factors Contributing to Variations:\n",
      "a) Socioeconomic Factors: Socioeconomic factors such as technological advancements,\n",
      "economic conditions, and societal changes can shape the expectations and values of\n",
      "different generations. For example, baby boomers experienced significant economic growth\n",
      "and stability, while millennials entered the workforce during times of economic\n",
      "uncertainty.\n",
      "b) Cultural Influences: Cultural factors, including societal norms, values, and beliefs,\n",
      "can also contribute to generational differences. Each generation grows up in a unique\n",
      "cultural context that influences their perspectives on work.\n",
      "c) Life Experiences: Different life experiences, such as major historical events or\n",
      "technological advancements, can shape the values and attitudes of each generation. For\n",
      "example, baby boomers may have experienced significant social and political changes, while\n",
      "millennials grew up in the digital age.\n",
      "\n",
      "3. Practical Scenarios and Examples:\n",
      "To illustrate these generational differences, consider the following scenarios:\n",
      "- Baby boomers may prefer a structured work environment with clear hierarchies, while\n",
      "millennials may thrive in a more flexible and collaborative setting.\n",
      "- Baby boomers may prioritize job security and financial stability, while millennials may\n",
      "prioritize personal growth and work-life balance.\n",
      "- Baby boomers may prefer face-to-face communication, while millennials may be more\n",
      "comfortable with digital communication tools.\n",
      "\n",
      "4. Navigating Generational Differences:\n",
      "To create a harmonious and productive work environment, organizations can consider the\n",
      "following strategies:\n",
      "- Foster open communication and create opportunities for intergenerational dialogue and\n",
      "understanding.\n",
      "- Provide flexible work arrangements and opportunities for personal growth and\n",
      "development.\n",
      "- Recognize and appreciate the diverse perspectives and strengths that each generation\n",
      "brings to the table.\n",
      "- Implement mentorship or reverse-mentoring programs to facilitate knowledge sharing and\n",
      "collaboration between different generations.\n",
      "- Create a culture of inclusivity and respect, valuing the contributions of all employees\n",
      "regardless of their generational background.\n",
      "\n",
      "In summary, generational differences in work expectations and values exist between baby\n",
      "boomers and millennials. These differences can be attributed to various factors such as\n",
      "socioeconomic influences, cultural factors, and life experiences. Understanding and\n",
      "navigating these differences is crucial for organizations to create a harmonious and\n",
      "productive work environment. By fostering open communication, providing flexibility, and\n",
      "appreciating the diverse perspectives of each generation, organizations can effectively\n",
      "manage generational differences and leverage the strengths of their multi-generational\n",
      "workforce.'\n",
      "\n",
      "\n",
      "### QUESTION:\n",
      "What are the differences in work expectations between generations?\n",
      "\n",
      "[/INST]\n",
      "  The differences in work expectations between generations can vary significantly, with\n",
      "baby boomers and millennials having distinct work values, attitudes, and preferences. Baby\n",
      "boomers tend to prioritize loyalty, dedication, and hard work, while millennials\n",
      "prioritize work-life balance, personal growth, and purpose-driven work. These differences\n",
      "can impact management dynamics at various levels, including operational, team, and\n",
      "strategic levels. Organizations must understand these differences and find ways to\n",
      "navigate them to create a harmonious and productive work environment.\n"
     ]
    }
   ],
   "source": [
    "# Input query to LLM\n",
    "input_text = {\n",
    "    \"context\": context_rag,\n",
    "    \"question\": question_rag\n",
    "}\n",
    "\n",
    "# Generate and print LLM response\n",
    "response = llm_chain.invoke(input_text)\n",
    "\n",
    "wrapped_text = wrap_text(response)\n",
    "print(f'The answer is: \\n {wrapped_text}')"
   ]
  },
  {
   "cell_type": "markdown",
   "metadata": {
    "id": "wUvgt31s_syb"
   },
   "source": [
    "# Streaming Output & Metrics for Evaluation"
   ]
  },
  {
   "cell_type": "code",
   "execution_count": 22,
   "metadata": {
    "colab": {
     "base_uri": "https://localhost:8080/",
     "height": 35
    },
    "id": "QqOFMlK2wYA3",
    "outputId": "4100d9e3-d5fb-4c17-f7c6-ff1a8e10977b"
   },
   "outputs": [
    {
     "data": {
      "text/html": [
       "\n",
       "  <style>\n",
       "    pre {\n",
       "        white-space: pre-wrap;\n",
       "    }\n",
       "  </style>\n",
       "  "
      ],
      "text/plain": [
       "<IPython.core.display.HTML object>"
      ]
     },
     "metadata": {},
     "output_type": "display_data"
    },
    {
     "name": "stderr",
     "output_type": "stream",
     "text": [
      "Device set to use cuda:0\n"
     ]
    }
   ],
   "source": [
    "from transformers import TextIteratorStreamer\n",
    "from threading import Thread\n",
    "import time\n",
    "\n",
    "first_token_time = 0\n",
    "token_times = []\n",
    "\n",
    "\n",
    "# Initialize a TextIteratorStreamer object for streaming text generation\n",
    "streamer = TextIteratorStreamer(tokenizer, timeout=10., skip_prompt=True, skip_special_tokens=True)\n",
    "\n",
    "# Create a text generation pipeline using the Hugging Face transformers library\n",
    "text_generation_pipeline = transformers.pipeline(\n",
    "    model=model,\n",
    "    tokenizer=tokenizer,\n",
    "    task=\"text-generation\",\n",
    "    temperature=0.3,\n",
    "    repetition_penalty=1.1,\n",
    "    max_new_tokens=1000,\n",
    "    do_sample=True,\n",
    "    streamer=streamer  # Use the streamer for streaming text generation\n",
    ")\n",
    "\n",
    "prompt_template = \"\"\"\n",
    "### [INST]\n",
    "Instruction: I will ask you a QUESTION and give you a CONTEXT and you will respond with an answer easily understandable.\n",
    "\n",
    "### CONTEXT:\n",
    "{context}\n",
    "\n",
    "### QUESTION:\n",
    "{question}\n",
    "\n",
    "[/INST]\n",
    " \"\"\"\n",
    "\n",
    "mistral_llm = HuggingFacePipeline(pipeline=text_generation_pipeline)\n",
    "\n",
    "prompt = PromptTemplate(\n",
    "    input_variables=[\"context\", \"question\"],\n",
    "    template=prompt_template,\n",
    ")\n",
    "\n",
    "llm_chain = prompt | mistral_llm | StrOutputParser()\n",
    "\n",
    "\n",
    "# Input query to LLM\n",
    "input_text = {\n",
    "    \"context\": \"\"\"\"\n",
    "    Act as a gourmet chef.\n",
    "    I have a friend coming over who is a vegetarian.\n",
    "    I want to impress my friend with a special vegetarian dish.\n",
    "    \"\"\",\n",
    "    \"question\": \"Give me two options, along with the whole recipe for each.\"\n",
    "}\n",
    "\n"
   ]
  },
  {
   "cell_type": "code",
   "execution_count": 23,
   "metadata": {
    "colab": {
     "base_uri": "https://localhost:8080/",
     "height": 1000
    },
    "id": "aGk6TFTc5KiK",
    "outputId": "79634342-0cce-453f-ae4a-017ee5043798"
   },
   "outputs": [
    {
     "data": {
      "text/html": [
       "\n",
       "  <style>\n",
       "    pre {\n",
       "        white-space: pre-wrap;\n",
       "    }\n",
       "  </style>\n",
       "  "
      ],
      "text/plain": [
       "<IPython.core.display.HTML object>"
      ]
     },
     "metadata": {},
     "output_type": "display_data"
    },
    {
     "name": "stderr",
     "output_type": "stream",
     "text": [
      "Setting `pad_token_id` to `eos_token_id`:2 for open-end generation.\n"
     ]
    },
    {
     "name": "stdout",
     "output_type": "stream",
     "text": [
      "1. Vegetable lasagna:\n",
      "\n",
      "Ingredients:\n",
      "\n",
      "* 1 pound lasagna noodles\n",
      "* 2 tablespoons olive oil\n",
      "* 1 onion, chopped\n",
      "* 3 cloves garlic, minced\n",
      "* 8 ounces mushrooms, sliced\n",
      "* 8 ounces zucchini, sliced\n",
      "* 8 ounces eggplant, sliced\n",
      "* 1 15-ounce can tomato sauce\n",
      "* 1 cup ricotta cheese\n",
      "* 1 egg, beaten\n",
      "* 1 teaspoon dried basil\n",
      "* 1 teaspoon dried oregano\n",
      "* Salt and pepper to taste\n",
      "* 1 1/2 cups grated mozzarella cheese\n",
      "* 1/4 cup grated parmesan cheese\n",
      "\n",
      "Instructions:\n",
      "\n",
      "1. Preheat oven to 375 degrees F (190 degrees C).\n",
      "2. Cook lasagna noodles according to package instructions until al dente. Drain and set aside.\n",
      "3. In a large skillet, heat olive oil over medium heat. Add onion and garlic and cook until softened, about 5 minutes.\n",
      "4. Add mushrooms, zucchini, and eggplant to the skillet and cook until vegetables are tender, about 10 minutes.\n",
      "5. Stir in tomato sauce, ricotta cheese, egg, basil, oregano, salt, and pepper.\n",
      "6. Spread a thin layer of the vegetable mixture in the bottom of a 9x13 inch baking dish. Place a layer of cooked lasagna noodles on top. Repeat layers until all ingredients are used, ending with a layer of vegetable mixture on top.\n",
      "7. Sprinkle mozzarella and parmesan cheeses over the top of the lasagna.\n",
      "8. Cover with foil and bake in preheated oven for 25 minutes. Remove foil and bake for an additional 25 minutes, or until cheese is melted and bubbly.\n",
      "9. Let cool for 10 minutes before serving.\n",
      "\n",
      "2. Quinoa-stuffed bell peppers:\n",
      "\n",
      "Ingredients:\n",
      "\n",
      "* 4 large bell peppers, any color\n",
      "* 1 cup quinoa\n",
      "* 2 cups vegetable broth\n",
      "* 1 onion, chopped\n",
      "* 3 cloves garlic, minced\n",
      "* 1 red bell pepper, chopped\n",
      "* 1 green bell pepper, chopped\n",
      "* 1 yellow bell pepper, chopped\n",
      "* 1 cup corn kernels\n",
      "* 1 cup black beans, drained and rinsed\n",
      "* 1 teaspoon cumin\n",
      "* 1 teaspoon smoked paprika\n",
      "* Salt and pepper to taste\n",
      "* Juice of 1 lime\n",
      "* 1/4 cup chopped fresh cilantro\n",
      "* 1 avocado, diced (optional)\n",
      "\n",
      "Instructions:\n",
      "\n",
      "1. Preheat oven to 375 degrees F (190 degrees C).\n",
      "2. Cut off the tops of the bell peppers and remove the seeds and membranes. Place the peppers in a baking dish and set aside.\n",
      "3. In a saucepan, bring quinoa and vegetable broth to a boil. Reduce heat, cover, and simmer for 15-20 minutes, or until quinoa is cooked and liquid is absorbed.\n",
      "4. In a large skillet, heat oil over medium heat. Add onion and garlic and cook until softened, about 5 minutes.\n",
      "5. Add red bell pepper, green bell pepper, and yellow bell pepper to the skillet and cook until vegetables are tender, about 10 minutes.\n",
      "6. Stir in corn kernels, black beans, cumin, smoked paprika, salt, and pepper.\n",
      "7. Add lime juice and cilantro to the skillet and stir to combine.\n",
      "8. Add the cooked quinoa mixture to the bell peppers and bake in preheated oven for 25-30 minutes, or until peppers are tender and filling is hot.\n",
      "9. Serve with diced avocado on top, if desired.\n",
      "Time To First Token (TTFT): 0.12711381912231445\n",
      "Inter-token latency (ITL): 0.03599916295758609\n",
      "End-to-end Latency: 33.53449082374573\n",
      "Throughput: 27.702821100899982\n"
     ]
    }
   ],
   "source": [
    "# Initialize variables for time measurements\n",
    "start_time = time.time()\n",
    "\n",
    "# Start a new thread to invoke the language model chain with the input text\n",
    "thread = Thread(target=llm_chain.invoke, args=[input_text])\n",
    "thread.start()\n",
    "\n",
    "# Initialize a variable to store the model output\n",
    "model_output = \"\"\n",
    "\n",
    "# Iterate over the streamer to get the generated text in chunks\n",
    "for i, new_text in enumerate(streamer):\n",
    "    model_output += new_text\n",
    "    print(new_text, end='')\n",
    "\n",
    "    # Measure time for the first token\n",
    "    if i == 0:\n",
    "        first_token_time = time.time()\n",
    "    # Measure time for each token\n",
    "    token_times.append(time.time())\n",
    "\n",
    "# Calculate end-to-end latency\n",
    "end_time = time.time()\n",
    "end_to_end_latency = end_time - start_time\n",
    "\n",
    "# Calculate time to first token\n",
    "ttft = first_token_time - start_time\n",
    "\n",
    "# Calculate inter-token latency\n",
    "itl = sum(x - y for x, y in zip(token_times[1:], token_times[:-1])) / (len(token_times) - 1)\n",
    "\n",
    "# Calculate throughput\n",
    "throughput = len(tokenizer.encode(model_output)) / end_to_end_latency\n",
    "\n",
    "print(\"\\nTime To First Token (TTFT):\", ttft)\n",
    "print(\"Inter-token latency (ITL):\", itl)\n",
    "print(\"End-to-end Latency:\", end_to_end_latency)\n",
    "print(\"Throughput:\", throughput)\n"
   ]
  },
  {
   "cell_type": "markdown",
   "metadata": {
    "id": "RFzj24dAPOmX"
   },
   "source": [
    "Let's create it into a function"
   ]
  },
  {
   "cell_type": "code",
   "execution_count": 24,
   "metadata": {
    "colab": {
     "base_uri": "https://localhost:8080/",
     "height": 17
    },
    "id": "d_tS8zIvMtfg",
    "outputId": "2528aa85-fcce-4516-95ee-3b12b6956ce3"
   },
   "outputs": [
    {
     "data": {
      "text/html": [
       "\n",
       "  <style>\n",
       "    pre {\n",
       "        white-space: pre-wrap;\n",
       "    }\n",
       "  </style>\n",
       "  "
      ],
      "text/plain": [
       "<IPython.core.display.HTML object>"
      ]
     },
     "metadata": {},
     "output_type": "display_data"
    }
   ],
   "source": [
    "def streaming_inference(context, question):\n",
    "    # Initialize a TextIteratorStreamer object for streaming text generation\n",
    "    streamer = TextIteratorStreamer(tokenizer, timeout=10., skip_prompt=True, skip_special_tokens=True)\n",
    "\n",
    "    # Create a text generation pipeline using the Hugging Face transformers library\n",
    "    text_generation_pipeline = transformers.pipeline(\n",
    "        model=model,\n",
    "        tokenizer=tokenizer,\n",
    "        task=\"text-generation\",\n",
    "        temperature=0.3,\n",
    "        repetition_penalty=1.1,\n",
    "        max_new_tokens=1000,\n",
    "        do_sample= True,\n",
    "        streamer=streamer  # Use the streamer for streaming text generation\n",
    "    )\n",
    "\n",
    "    prompt_template = \"\"\"\n",
    "    ### [INST]\n",
    "    Instruction: I will ask you a QUESTION and give you a CONTEXT and you will respond with an answer easily understandable in bullet points.\n",
    "\n",
    "    ### CONTEXT:\n",
    "    {context}\n",
    "\n",
    "    ### QUESTION:\n",
    "    {question}\n",
    "\n",
    "    [/INST]\n",
    "    \"\"\"\n",
    "\n",
    "    mistral_llm = HuggingFacePipeline(pipeline=text_generation_pipeline)\n",
    "\n",
    "    prompt = PromptTemplate(\n",
    "        input_variables=[\"context\", \"question\"],\n",
    "        template=prompt_template,\n",
    "    )\n",
    "\n",
    "    llm_chain = prompt | mistral_llm | StrOutputParser()\n",
    "\n",
    "    input_text = {\n",
    "        \"context\": context,\n",
    "        \"question\": question\n",
    "    }\n",
    "\n",
    "    # Initialize variables for time measurements\n",
    "    start_time = time.time()\n",
    "\n",
    "    # Start a new thread to invoke the language model chain with the input text\n",
    "    thread = Thread(target=llm_chain.invoke, args=[input_text])\n",
    "    thread.start()\n",
    "\n",
    "    # Initialize a variable to store the model output\n",
    "    model_output = \"\"\n",
    "\n",
    "    # Iterate over the streamer to get the generated text in chunks\n",
    "    for i, new_text in enumerate(streamer):\n",
    "        model_output += new_text\n",
    "        print(new_text, end='')\n",
    "\n",
    "        # Measure time for the first token\n",
    "        if i == 0:\n",
    "            first_token_time = time.time()\n",
    "        # Measure time for each token\n",
    "        token_times.append(time.time())\n",
    "\n",
    "    # Calculate end-to-end latency\n",
    "    end_time = time.time()\n",
    "    end_to_end_latency = end_time - start_time\n",
    "\n",
    "    # Calculate time to first token\n",
    "    ttft = first_token_time - start_time\n",
    "\n",
    "    # Calculate inter-token latency\n",
    "    itl = sum(x - y for x, y in zip(token_times[1:], token_times[:-1])) / (len(token_times) - 1)\n",
    "\n",
    "    # Calculate throughput\n",
    "    throughput = len(tokenizer.encode(model_output)) / end_to_end_latency\n",
    "\n",
    "    print(\"\\nTime To First Token (TTFT):\", ttft)\n",
    "    print(\"Inter-token latency (ITL):\", itl)\n",
    "    print(\"End-to-end Latency:\", end_to_end_latency)\n",
    "    print(\"Throughput:\", throughput)\n",
    "\n",
    "    # Return the metrics\n",
    "    return {\n",
    "        \"TTFT\": ttft,\n",
    "        \"ITL\": itl,\n",
    "        \"End-to-end Latency\": end_to_end_latency,\n",
    "        \"Throughput\": throughput\n",
    "    }\n"
   ]
  },
  {
   "cell_type": "code",
   "execution_count": 25,
   "metadata": {
    "colab": {
     "base_uri": "https://localhost:8080/",
     "height": 463
    },
    "id": "7Z5odA4sMwPR",
    "outputId": "a14a7fa5-adb1-4d4a-b2dc-46bfa19cf7e9"
   },
   "outputs": [
    {
     "data": {
      "text/html": [
       "\n",
       "  <style>\n",
       "    pre {\n",
       "        white-space: pre-wrap;\n",
       "    }\n",
       "  </style>\n",
       "  "
      ],
      "text/plain": [
       "<IPython.core.display.HTML object>"
      ]
     },
     "metadata": {},
     "output_type": "display_data"
    },
    {
     "name": "stderr",
     "output_type": "stream",
     "text": [
      "Device set to use cuda:0\n",
      "Setting `pad_token_id` to `eos_token_id`:2 for open-end generation.\n"
     ]
    },
    {
     "name": "stdout",
     "output_type": "stream",
     "text": [
      "\n",
      "   The differences in work expectations between generations are primarily driven by the values, attitudes, and preferences of each generation. Here are some key differences between baby boomers and millennials:\n",
      "\n",
      "   - Baby boomers tend to prioritize loyalty, dedication, and hard work, whereas millennials prioritize work-life balance, personal growth, and purpose-driven work.\n",
      "   - Baby boomers may have a more traditional approach to work, valuing hierarchy and authority, while millennials may have a more collaborative and inclusive approach to work.\n",
      "   - Baby boomers may prefer face-to-face communication and value personal relationships in the workplace, while millennials are comfortable with technology and may prefer digital communication channels.\n",
      "   - Baby boomers may prioritize financial stability and job security, while millennials may prioritize personal growth and work-life balance.\n",
      "\n",
      "These differences can impact management dynamics at various levels, including operational, team, and strategic levels. Organizations need to understand these differences and find ways to navigate them to create a harmonious and productive work environment.\n",
      "Time To First Token (TTFT): 0.26491475105285645\n",
      "Inter-token latency (ITL): 0.03634322060845715\n",
      "End-to-end Latency: 8.55327558517456\n",
      "Throughput: 26.65645432905186\n"
     ]
    },
    {
     "data": {
      "text/plain": [
       "{'TTFT': 0.26491475105285645,\n",
       " 'ITL': 0.03634322060845715,\n",
       " 'End-to-end Latency': 8.55327558517456,\n",
       " 'Throughput': 26.65645432905186}"
      ]
     },
     "execution_count": 25,
     "metadata": {},
     "output_type": "execute_result"
    }
   ],
   "source": [
    "streaming_inference(context_rag,question_rag)"
   ]
  },
  {
   "cell_type": "markdown",
   "metadata": {
    "id": "fxQNbHChVcDo"
   },
   "source": [
    "Time To First Token (TTFT): 5.885674238204956\n",
    "Inter-token latency (ITL): 0.25101944495291606\n",
    "End-to-end Latency: 29.334325551986694\n",
    "Throughput: 7.124759000496103"
   ]
  },
  {
   "cell_type": "markdown",
   "metadata": {
    "id": "Jl566jO0OBTX"
   },
   "source": [
    "# Setting Up a FastAPI Wrapper"
   ]
  },
  {
   "cell_type": "code",
   "execution_count": 26,
   "metadata": {
    "colab": {
     "base_uri": "https://localhost:8080/",
     "height": 17
    },
    "id": "-KDjYSIdE0c5",
    "outputId": "34c51b2e-4415-4390-9ef7-e7e427e31018"
   },
   "outputs": [
    {
     "data": {
      "text/html": [
       "\n",
       "  <style>\n",
       "    pre {\n",
       "        white-space: pre-wrap;\n",
       "    }\n",
       "  </style>\n",
       "  "
      ],
      "text/plain": [
       "<IPython.core.display.HTML object>"
      ]
     },
     "metadata": {},
     "output_type": "display_data"
    }
   ],
   "source": [
    "from fastapi import FastAPI, Request, BackgroundTasks\n",
    "from fastapi.responses import StreamingResponse\n",
    "from threading import Thread\n",
    "\n",
    "app = FastAPI()\n",
    "\n",
    "# Variables for time measurements\n",
    "start_time = 0\n",
    "first_token_time = 0\n",
    "token_times = []\n",
    "\n",
    "# Invoke the LLM chain using the input text\n",
    "def invoke_llm_chain(input_text):\n",
    "    llm_chain.invoke(input_text)\n",
    "\n",
    "\n",
    "# Function to calculate metrics\n",
    "def calculate_metrics(start_time, first_token_time, token_times, model_output):\n",
    "    end_time = time.time()\n",
    "    end_to_end_latency = end_time - start_time\n",
    "    ttft = first_token_time - start_time\n",
    "    itl = sum(x - y for x, y in zip(token_times[1:], token_times[:-1])) / (len(token_times) - 1)\n",
    "\n",
    "    throughput = len(model_output) / end_to_end_latency\n",
    "    return {\n",
    "        \"End-to-end Latency\": end_to_end_latency,\n",
    "        \"Time To First Token (TTFT)\": ttft,\n",
    "        \"Inter-token latency (ITL)\": itl,\n",
    "        \"Throughput\": throughput\n",
    "    }\n",
    "\n",
    "# Generate output text using the streamer\n",
    "def generate_output(streamer):\n",
    "    global start_time, first_token_time, token_times, model_output\n",
    "    model_output = \"\"\n",
    "    start_time = time.time()\n",
    "\n",
    "    for i, new_text in enumerate(streamer):\n",
    "        model_output += new_text\n",
    "\n",
    "        # Measure time for the first token\n",
    "        if i == 0:\n",
    "            first_token_time = time.time()\n",
    "\n",
    "        # Measure time for each token\n",
    "        token_times.append(time.time())\n",
    "        yield new_text\n",
    "\n",
    "    metrics = calculate_metrics(start_time, first_token_time, token_times, model_output)\n",
    "    print(\"Metrics:\", metrics)\n",
    "    return metrics\n",
    "\n",
    "\n",
    "@app.get(\"/\")\n",
    "async def root():\n",
    "    return {\"message\": \"Hello, World!\"}\n",
    "\n",
    "\n",
    "@app.post(\"/mistral-inference\")\n",
    "async def mistral_inference(input_text: dict, background_tasks: BackgroundTasks):\n",
    "    # Start a separate thread to run the LLM chain asynchronously\n",
    "    thread = Thread(target=invoke_llm_chain, args=[input_text])\n",
    "    thread.start()\n",
    "\n",
    "    # Add the generate_output function to the background tasks with the streamer\n",
    "    background_tasks.add_task(generate_output, streamer)\n",
    "\n",
    "    return StreamingResponse(generate_output(streamer))\n"
   ]
  },
  {
   "cell_type": "markdown",
   "metadata": {
    "id": "676Z-9JQOMpc"
   },
   "source": [
    "# Using Ngrok to Create Public URL"
   ]
  },
  {
   "cell_type": "markdown",
   "metadata": {
    "id": "oUo5ISU3aa2x"
   },
   "source": [
    "Sign up for your own key on Ngrok"
   ]
  },
  {
   "cell_type": "code",
   "execution_count": 27,
   "metadata": {
    "colab": {
     "base_uri": "https://localhost:8080/",
     "height": 17
    },
    "id": "XTVhZKQHBwFQ",
    "outputId": "5af16e03-f9b6-4db2-8849-412a17c8f874"
   },
   "outputs": [
    {
     "data": {
      "text/html": [
       "\n",
       "  <style>\n",
       "    pre {\n",
       "        white-space: pre-wrap;\n",
       "    }\n",
       "  </style>\n",
       "  "
      ],
      "text/plain": [
       "<IPython.core.display.HTML object>"
      ]
     },
     "metadata": {},
     "output_type": "display_data"
    }
   ],
   "source": [
    "NGROK_KEY = os.getenv('NGROK_KEY')"
   ]
  },
  {
   "cell_type": "code",
   "execution_count": 28,
   "metadata": {
    "colab": {
     "base_uri": "https://localhost:8080/",
     "height": 35
    },
    "id": "Tv28NEi_rJID",
    "outputId": "f6cc03f5-72ff-47fc-891e-ef828caed4eb"
   },
   "outputs": [
    {
     "data": {
      "text/html": [
       "\n",
       "  <style>\n",
       "    pre {\n",
       "        white-space: pre-wrap;\n",
       "    }\n",
       "  </style>\n",
       "  "
      ],
      "text/plain": [
       "<IPython.core.display.HTML object>"
      ]
     },
     "metadata": {},
     "output_type": "display_data"
    },
    {
     "name": "stdout",
     "output_type": "stream",
     "text": [
      "Authtoken saved to configuration file: /home/richard/.config/ngrok/ngrok.yml\n"
     ]
    }
   ],
   "source": [
    "!ngrok config add-authtoken $NGROK_KEY"
   ]
  },
  {
   "cell_type": "code",
   "execution_count": 29,
   "metadata": {
    "colab": {
     "base_uri": "https://localhost:8080/",
     "height": 17
    },
    "id": "hL7cjqWqRBGF",
    "outputId": "75cd0a3f-3ca2-47d7-c5c7-bd2ed693ec65"
   },
   "outputs": [
    {
     "data": {
      "text/html": [
       "\n",
       "  <style>\n",
       "    pre {\n",
       "        white-space: pre-wrap;\n",
       "    }\n",
       "  </style>\n",
       "  "
      ],
      "text/plain": [
       "<IPython.core.display.HTML object>"
      ]
     },
     "metadata": {},
     "output_type": "display_data"
    }
   ],
   "source": [
    "import nest_asyncio\n",
    "from pyngrok import ngrok\n",
    "import uvicorn\n",
    "ngrok.kill()"
   ]
  },
  {
   "cell_type": "code",
   "execution_count": null,
   "metadata": {
    "colab": {
     "base_uri": "https://localhost:8080/",
     "height": 356
    },
    "id": "XotHLs5FrEk0",
    "outputId": "8ae651fc-9723-47ec-84ec-3ac285cb0567"
   },
   "outputs": [
    {
     "data": {
      "text/html": [
       "\n",
       "  <style>\n",
       "    pre {\n",
       "        white-space: pre-wrap;\n",
       "    }\n",
       "  </style>\n",
       "  "
      ],
      "text/plain": [
       "<IPython.core.display.HTML object>"
      ]
     },
     "metadata": {},
     "output_type": "display_data"
    },
    {
     "name": "stderr",
     "output_type": "stream",
     "text": [
      "INFO:     Started server process [73877]\n",
      "INFO:     Waiting for application startup.\n",
      "INFO:     Application startup complete.\n",
      "INFO:     Uvicorn running on http://127.0.0.1:8000 (Press CTRL+C to quit)\n"
     ]
    },
    {
     "name": "stdout",
     "output_type": "stream",
     "text": [
      "Public URL: https://34586ccad689.ngrok-free.app\n",
      "INFO:     2600:4040:ae09:de00:69f:fde9:b12a:5609:0 - \"GET / HTTP/1.1\" 200 OK\n",
      "INFO:     2600:4040:ae09:de00:69f:fde9:b12a:5609:0 - \"POST /mistral-inference HTTP/1.1\" 200 OK\n"
     ]
    },
    {
     "name": "stderr",
     "output_type": "stream",
     "text": [
      "Setting `pad_token_id` to `eos_token_id`:2 for open-end generation.\n"
     ]
    },
    {
     "name": "stdout",
     "output_type": "stream",
     "text": [
      "Metrics: {'End-to-end Latency': 1.2409858703613281, 'Time To First Token (TTFT)': 0.14339852333068848, 'Inter-token latency (ITL)': 0.040641316661128295, 'Throughput': 91.05663706477067}\n"
     ]
    }
   ],
   "source": [
    "ngrok_tunnel = ngrok.connect(8000)\n",
    "print('Public URL:', ngrok_tunnel.public_url)\n",
    "nest_asyncio.apply()\n",
    "\n",
    "uvicorn.run(host=\"127.0.0.1\", port=8000, app=app)\n"
   ]
  },
  {
   "cell_type": "code",
   "execution_count": null,
   "metadata": {},
   "outputs": [],
   "source": []
  },
  {
   "cell_type": "code",
   "execution_count": null,
   "metadata": {},
   "outputs": [],
   "source": []
  },
  {
   "cell_type": "code",
   "execution_count": null,
   "metadata": {},
   "outputs": [],
   "source": []
  }
 ],
 "metadata": {
  "accelerator": "GPU",
  "colab": {
   "gpuType": "T4",
   "machine_shape": "hm",
   "provenance": []
  },
  "kernelspec": {
   "display_name": "Python 3 (ipykernel)",
   "language": "python",
   "name": "python3"
  },
  "language_info": {
   "codemirror_mode": {
    "name": "ipython",
    "version": 3
   },
   "file_extension": ".py",
   "mimetype": "text/x-python",
   "name": "python",
   "nbconvert_exporter": "python",
   "pygments_lexer": "ipython3",
   "version": "3.11.11"
  },
  "widgets": {
   "application/vnd.jupyter.widget-state+json": {
    "01173ff427534c968648e59e999ab295": {
     "model_module": "@jupyter-widgets/base",
     "model_module_version": "1.2.0",
     "model_name": "LayoutModel",
     "state": {
      "_model_module": "@jupyter-widgets/base",
      "_model_module_version": "1.2.0",
      "_model_name": "LayoutModel",
      "_view_count": null,
      "_view_module": "@jupyter-widgets/base",
      "_view_module_version": "1.2.0",
      "_view_name": "LayoutView",
      "align_content": null,
      "align_items": null,
      "align_self": null,
      "border": null,
      "bottom": null,
      "display": null,
      "flex": null,
      "flex_flow": null,
      "grid_area": null,
      "grid_auto_columns": null,
      "grid_auto_flow": null,
      "grid_auto_rows": null,
      "grid_column": null,
      "grid_gap": null,
      "grid_row": null,
      "grid_template_areas": null,
      "grid_template_columns": null,
      "grid_template_rows": null,
      "height": null,
      "justify_content": null,
      "justify_items": null,
      "left": null,
      "margin": null,
      "max_height": null,
      "max_width": null,
      "min_height": null,
      "min_width": null,
      "object_fit": null,
      "object_position": null,
      "order": null,
      "overflow": null,
      "overflow_x": null,
      "overflow_y": null,
      "padding": null,
      "right": null,
      "top": null,
      "visibility": null,
      "width": null
     }
    },
    "03d8e87684a541bda189a274f41623c7": {
     "model_module": "@jupyter-widgets/base",
     "model_module_version": "1.2.0",
     "model_name": "LayoutModel",
     "state": {
      "_model_module": "@jupyter-widgets/base",
      "_model_module_version": "1.2.0",
      "_model_name": "LayoutModel",
      "_view_count": null,
      "_view_module": "@jupyter-widgets/base",
      "_view_module_version": "1.2.0",
      "_view_name": "LayoutView",
      "align_content": null,
      "align_items": null,
      "align_self": null,
      "border": null,
      "bottom": null,
      "display": null,
      "flex": null,
      "flex_flow": null,
      "grid_area": null,
      "grid_auto_columns": null,
      "grid_auto_flow": null,
      "grid_auto_rows": null,
      "grid_column": null,
      "grid_gap": null,
      "grid_row": null,
      "grid_template_areas": null,
      "grid_template_columns": null,
      "grid_template_rows": null,
      "height": null,
      "justify_content": null,
      "justify_items": null,
      "left": null,
      "margin": null,
      "max_height": null,
      "max_width": null,
      "min_height": null,
      "min_width": null,
      "object_fit": null,
      "object_position": null,
      "order": null,
      "overflow": null,
      "overflow_x": null,
      "overflow_y": null,
      "padding": null,
      "right": null,
      "top": null,
      "visibility": null,
      "width": null
     }
    },
    "060346d737d3411a89a7e58367c8d240": {
     "model_module": "@jupyter-widgets/controls",
     "model_module_version": "1.5.0",
     "model_name": "ProgressStyleModel",
     "state": {
      "_model_module": "@jupyter-widgets/controls",
      "_model_module_version": "1.5.0",
      "_model_name": "ProgressStyleModel",
      "_view_count": null,
      "_view_module": "@jupyter-widgets/base",
      "_view_module_version": "1.2.0",
      "_view_name": "StyleView",
      "bar_color": null,
      "description_width": ""
     }
    },
    "0a1619c771214ba9bfe7b55e4f91de3c": {
     "model_module": "@jupyter-widgets/base",
     "model_module_version": "1.2.0",
     "model_name": "LayoutModel",
     "state": {
      "_model_module": "@jupyter-widgets/base",
      "_model_module_version": "1.2.0",
      "_model_name": "LayoutModel",
      "_view_count": null,
      "_view_module": "@jupyter-widgets/base",
      "_view_module_version": "1.2.0",
      "_view_name": "LayoutView",
      "align_content": null,
      "align_items": null,
      "align_self": null,
      "border": null,
      "bottom": null,
      "display": null,
      "flex": null,
      "flex_flow": null,
      "grid_area": null,
      "grid_auto_columns": null,
      "grid_auto_flow": null,
      "grid_auto_rows": null,
      "grid_column": null,
      "grid_gap": null,
      "grid_row": null,
      "grid_template_areas": null,
      "grid_template_columns": null,
      "grid_template_rows": null,
      "height": null,
      "justify_content": null,
      "justify_items": null,
      "left": null,
      "margin": null,
      "max_height": null,
      "max_width": null,
      "min_height": null,
      "min_width": null,
      "object_fit": null,
      "object_position": null,
      "order": null,
      "overflow": null,
      "overflow_x": null,
      "overflow_y": null,
      "padding": null,
      "right": null,
      "top": null,
      "visibility": null,
      "width": null
     }
    },
    "1286c08f959b4b81a307fdf65c893e74": {
     "model_module": "@jupyter-widgets/controls",
     "model_module_version": "1.5.0",
     "model_name": "HTMLModel",
     "state": {
      "_dom_classes": [],
      "_model_module": "@jupyter-widgets/controls",
      "_model_module_version": "1.5.0",
      "_model_name": "HTMLModel",
      "_view_count": null,
      "_view_module": "@jupyter-widgets/controls",
      "_view_module_version": "1.5.0",
      "_view_name": "HTMLView",
      "description": "",
      "description_tooltip": null,
      "layout": "IPY_MODEL_425d10b1620c475391cc47b51c38a141",
      "placeholder": "​",
      "style": "IPY_MODEL_92d5cd6e56f1418f875eb2bf837fd26c",
      "value": " 2/2 [00:09&lt;00:00,  4.61s/it]"
     }
    },
    "13aa3bed42924caba2020d015d2e7212": {
     "model_module": "@jupyter-widgets/base",
     "model_module_version": "1.2.0",
     "model_name": "LayoutModel",
     "state": {
      "_model_module": "@jupyter-widgets/base",
      "_model_module_version": "1.2.0",
      "_model_name": "LayoutModel",
      "_view_count": null,
      "_view_module": "@jupyter-widgets/base",
      "_view_module_version": "1.2.0",
      "_view_name": "LayoutView",
      "align_content": null,
      "align_items": null,
      "align_self": null,
      "border": null,
      "bottom": null,
      "display": null,
      "flex": null,
      "flex_flow": null,
      "grid_area": null,
      "grid_auto_columns": null,
      "grid_auto_flow": null,
      "grid_auto_rows": null,
      "grid_column": null,
      "grid_gap": null,
      "grid_row": null,
      "grid_template_areas": null,
      "grid_template_columns": null,
      "grid_template_rows": null,
      "height": null,
      "justify_content": null,
      "justify_items": null,
      "left": null,
      "margin": null,
      "max_height": null,
      "max_width": null,
      "min_height": null,
      "min_width": null,
      "object_fit": null,
      "object_position": null,
      "order": null,
      "overflow": null,
      "overflow_x": null,
      "overflow_y": null,
      "padding": null,
      "right": null,
      "top": null,
      "visibility": null,
      "width": null
     }
    },
    "16f9beebd23e483481f801f71d52ab84": {
     "model_module": "@jupyter-widgets/base",
     "model_module_version": "1.2.0",
     "model_name": "LayoutModel",
     "state": {
      "_model_module": "@jupyter-widgets/base",
      "_model_module_version": "1.2.0",
      "_model_name": "LayoutModel",
      "_view_count": null,
      "_view_module": "@jupyter-widgets/base",
      "_view_module_version": "1.2.0",
      "_view_name": "LayoutView",
      "align_content": null,
      "align_items": null,
      "align_self": null,
      "border": null,
      "bottom": null,
      "display": null,
      "flex": null,
      "flex_flow": null,
      "grid_area": null,
      "grid_auto_columns": null,
      "grid_auto_flow": null,
      "grid_auto_rows": null,
      "grid_column": null,
      "grid_gap": null,
      "grid_row": null,
      "grid_template_areas": null,
      "grid_template_columns": null,
      "grid_template_rows": null,
      "height": null,
      "justify_content": null,
      "justify_items": null,
      "left": null,
      "margin": null,
      "max_height": null,
      "max_width": null,
      "min_height": null,
      "min_width": null,
      "object_fit": null,
      "object_position": null,
      "order": null,
      "overflow": null,
      "overflow_x": null,
      "overflow_y": null,
      "padding": null,
      "right": null,
      "top": null,
      "visibility": null,
      "width": null
     }
    },
    "185f9690581d4fdfa353c39ecc5daa38": {
     "model_module": "@jupyter-widgets/base",
     "model_module_version": "1.2.0",
     "model_name": "LayoutModel",
     "state": {
      "_model_module": "@jupyter-widgets/base",
      "_model_module_version": "1.2.0",
      "_model_name": "LayoutModel",
      "_view_count": null,
      "_view_module": "@jupyter-widgets/base",
      "_view_module_version": "1.2.0",
      "_view_name": "LayoutView",
      "align_content": null,
      "align_items": null,
      "align_self": null,
      "border": null,
      "bottom": null,
      "display": null,
      "flex": null,
      "flex_flow": null,
      "grid_area": null,
      "grid_auto_columns": null,
      "grid_auto_flow": null,
      "grid_auto_rows": null,
      "grid_column": null,
      "grid_gap": null,
      "grid_row": null,
      "grid_template_areas": null,
      "grid_template_columns": null,
      "grid_template_rows": null,
      "height": null,
      "justify_content": null,
      "justify_items": null,
      "left": null,
      "margin": null,
      "max_height": null,
      "max_width": null,
      "min_height": null,
      "min_width": null,
      "object_fit": null,
      "object_position": null,
      "order": null,
      "overflow": null,
      "overflow_x": null,
      "overflow_y": null,
      "padding": null,
      "right": null,
      "top": null,
      "visibility": null,
      "width": null
     }
    },
    "1b2c6f4fbd54494ca5c6412872bec9b1": {
     "model_module": "@jupyter-widgets/base",
     "model_module_version": "1.2.0",
     "model_name": "LayoutModel",
     "state": {
      "_model_module": "@jupyter-widgets/base",
      "_model_module_version": "1.2.0",
      "_model_name": "LayoutModel",
      "_view_count": null,
      "_view_module": "@jupyter-widgets/base",
      "_view_module_version": "1.2.0",
      "_view_name": "LayoutView",
      "align_content": null,
      "align_items": null,
      "align_self": null,
      "border": null,
      "bottom": null,
      "display": null,
      "flex": null,
      "flex_flow": null,
      "grid_area": null,
      "grid_auto_columns": null,
      "grid_auto_flow": null,
      "grid_auto_rows": null,
      "grid_column": null,
      "grid_gap": null,
      "grid_row": null,
      "grid_template_areas": null,
      "grid_template_columns": null,
      "grid_template_rows": null,
      "height": null,
      "justify_content": null,
      "justify_items": null,
      "left": null,
      "margin": null,
      "max_height": null,
      "max_width": null,
      "min_height": null,
      "min_width": null,
      "object_fit": null,
      "object_position": null,
      "order": null,
      "overflow": null,
      "overflow_x": null,
      "overflow_y": null,
      "padding": null,
      "right": null,
      "top": null,
      "visibility": null,
      "width": null
     }
    },
    "1cf1928132374a9e9d39c8b9e6a3b551": {
     "model_module": "@jupyter-widgets/controls",
     "model_module_version": "1.5.0",
     "model_name": "DescriptionStyleModel",
     "state": {
      "_model_module": "@jupyter-widgets/controls",
      "_model_module_version": "1.5.0",
      "_model_name": "DescriptionStyleModel",
      "_view_count": null,
      "_view_module": "@jupyter-widgets/base",
      "_view_module_version": "1.2.0",
      "_view_name": "StyleView",
      "description_width": ""
     }
    },
    "1cff64a45dc640d293f4f10f185de6ea": {
     "model_module": "@jupyter-widgets/controls",
     "model_module_version": "1.5.0",
     "model_name": "DescriptionStyleModel",
     "state": {
      "_model_module": "@jupyter-widgets/controls",
      "_model_module_version": "1.5.0",
      "_model_name": "DescriptionStyleModel",
      "_view_count": null,
      "_view_module": "@jupyter-widgets/base",
      "_view_module_version": "1.2.0",
      "_view_name": "StyleView",
      "description_width": ""
     }
    },
    "1d66ed196fc34aeb9d069796f031c1b3": {
     "model_module": "@jupyter-widgets/controls",
     "model_module_version": "1.5.0",
     "model_name": "HTMLModel",
     "state": {
      "_dom_classes": [],
      "_model_module": "@jupyter-widgets/controls",
      "_model_module_version": "1.5.0",
      "_model_name": "HTMLModel",
      "_view_count": null,
      "_view_module": "@jupyter-widgets/controls",
      "_view_module_version": "1.5.0",
      "_view_name": "HTMLView",
      "description": "",
      "description_tooltip": null,
      "layout": "IPY_MODEL_d10d8585e3864b6d9e6329a76be6940e",
      "placeholder": "​",
      "style": "IPY_MODEL_1cff64a45dc640d293f4f10f185de6ea",
      "value": " 4.54G/4.54G [00:32&lt;00:00, 156MB/s]"
     }
    },
    "1f27c73af798490c8affadde157b1964": {
     "model_module": "@jupyter-widgets/base",
     "model_module_version": "1.2.0",
     "model_name": "LayoutModel",
     "state": {
      "_model_module": "@jupyter-widgets/base",
      "_model_module_version": "1.2.0",
      "_model_name": "LayoutModel",
      "_view_count": null,
      "_view_module": "@jupyter-widgets/base",
      "_view_module_version": "1.2.0",
      "_view_name": "LayoutView",
      "align_content": null,
      "align_items": null,
      "align_self": null,
      "border": null,
      "bottom": null,
      "display": null,
      "flex": null,
      "flex_flow": null,
      "grid_area": null,
      "grid_auto_columns": null,
      "grid_auto_flow": null,
      "grid_auto_rows": null,
      "grid_column": null,
      "grid_gap": null,
      "grid_row": null,
      "grid_template_areas": null,
      "grid_template_columns": null,
      "grid_template_rows": null,
      "height": null,
      "justify_content": null,
      "justify_items": null,
      "left": null,
      "margin": null,
      "max_height": null,
      "max_width": null,
      "min_height": null,
      "min_width": null,
      "object_fit": null,
      "object_position": null,
      "order": null,
      "overflow": null,
      "overflow_x": null,
      "overflow_y": null,
      "padding": null,
      "right": null,
      "top": null,
      "visibility": null,
      "width": null
     }
    },
    "219777ed73c6422ca61e9a74cb74da4c": {
     "model_module": "@jupyter-widgets/controls",
     "model_module_version": "1.5.0",
     "model_name": "HBoxModel",
     "state": {
      "_dom_classes": [],
      "_model_module": "@jupyter-widgets/controls",
      "_model_module_version": "1.5.0",
      "_model_name": "HBoxModel",
      "_view_count": null,
      "_view_module": "@jupyter-widgets/controls",
      "_view_module_version": "1.5.0",
      "_view_name": "HBoxView",
      "box_style": "",
      "children": [
       "IPY_MODEL_266c33c19e6a4d65b263bbfd5c8b6c4c",
       "IPY_MODEL_948924057d3d4f6b905e69a760467f3a",
       "IPY_MODEL_b4ec396e814049d688b8491521d451b1"
      ],
      "layout": "IPY_MODEL_f7c11929510b480d85f3be326afb049c"
     }
    },
    "23e877a706ad46c196940a0767b6793f": {
     "model_module": "@jupyter-widgets/controls",
     "model_module_version": "1.5.0",
     "model_name": "FloatProgressModel",
     "state": {
      "_dom_classes": [],
      "_model_module": "@jupyter-widgets/controls",
      "_model_module_version": "1.5.0",
      "_model_name": "FloatProgressModel",
      "_view_count": null,
      "_view_module": "@jupyter-widgets/controls",
      "_view_module_version": "1.5.0",
      "_view_name": "ProgressView",
      "bar_style": "success",
      "description": "",
      "description_tooltip": null,
      "layout": "IPY_MODEL_fda092637f474b94bbaa2cb508840e1e",
      "max": 9942981696,
      "min": 0,
      "orientation": "horizontal",
      "style": "IPY_MODEL_060346d737d3411a89a7e58367c8d240",
      "value": 9942981696
     }
    },
    "266c33c19e6a4d65b263bbfd5c8b6c4c": {
     "model_module": "@jupyter-widgets/controls",
     "model_module_version": "1.5.0",
     "model_name": "HTMLModel",
     "state": {
      "_dom_classes": [],
      "_model_module": "@jupyter-widgets/controls",
      "_model_module_version": "1.5.0",
      "_model_name": "HTMLModel",
      "_view_count": null,
      "_view_module": "@jupyter-widgets/controls",
      "_view_module_version": "1.5.0",
      "_view_name": "HTMLView",
      "description": "",
      "description_tooltip": null,
      "layout": "IPY_MODEL_16f9beebd23e483481f801f71d52ab84",
      "placeholder": "​",
      "style": "IPY_MODEL_75304bc3c0244f04b97e80d81c85c1ef",
      "value": "special_tokens_map.json: 100%"
     }
    },
    "26ace7f584804a538d7e8b8a24916309": {
     "model_module": "@jupyter-widgets/controls",
     "model_module_version": "1.5.0",
     "model_name": "HBoxModel",
     "state": {
      "_dom_classes": [],
      "_model_module": "@jupyter-widgets/controls",
      "_model_module_version": "1.5.0",
      "_model_name": "HBoxModel",
      "_view_count": null,
      "_view_module": "@jupyter-widgets/controls",
      "_view_module_version": "1.5.0",
      "_view_name": "HBoxView",
      "box_style": "",
      "children": [
       "IPY_MODEL_a9a252107ce74b07b2f04017ed3c1699",
       "IPY_MODEL_23e877a706ad46c196940a0767b6793f",
       "IPY_MODEL_61f2bb9bdf834f8d9cb0281f05ad7bac"
      ],
      "layout": "IPY_MODEL_a470f0ccca6a4628ada632a3f5254bdd"
     }
    },
    "2a9ccb75e8c64f6a901c96d2a09ebc88": {
     "model_module": "@jupyter-widgets/base",
     "model_module_version": "1.2.0",
     "model_name": "LayoutModel",
     "state": {
      "_model_module": "@jupyter-widgets/base",
      "_model_module_version": "1.2.0",
      "_model_name": "LayoutModel",
      "_view_count": null,
      "_view_module": "@jupyter-widgets/base",
      "_view_module_version": "1.2.0",
      "_view_name": "LayoutView",
      "align_content": null,
      "align_items": null,
      "align_self": null,
      "border": null,
      "bottom": null,
      "display": null,
      "flex": null,
      "flex_flow": null,
      "grid_area": null,
      "grid_auto_columns": null,
      "grid_auto_flow": null,
      "grid_auto_rows": null,
      "grid_column": null,
      "grid_gap": null,
      "grid_row": null,
      "grid_template_areas": null,
      "grid_template_columns": null,
      "grid_template_rows": null,
      "height": null,
      "justify_content": null,
      "justify_items": null,
      "left": null,
      "margin": null,
      "max_height": null,
      "max_width": null,
      "min_height": null,
      "min_width": null,
      "object_fit": null,
      "object_position": null,
      "order": null,
      "overflow": null,
      "overflow_x": null,
      "overflow_y": null,
      "padding": null,
      "right": null,
      "top": null,
      "visibility": null,
      "width": null
     }
    },
    "2b4dd813cbc3496a93bca8f780c092d4": {
     "model_module": "@jupyter-widgets/base",
     "model_module_version": "1.2.0",
     "model_name": "LayoutModel",
     "state": {
      "_model_module": "@jupyter-widgets/base",
      "_model_module_version": "1.2.0",
      "_model_name": "LayoutModel",
      "_view_count": null,
      "_view_module": "@jupyter-widgets/base",
      "_view_module_version": "1.2.0",
      "_view_name": "LayoutView",
      "align_content": null,
      "align_items": null,
      "align_self": null,
      "border": null,
      "bottom": null,
      "display": null,
      "flex": null,
      "flex_flow": null,
      "grid_area": null,
      "grid_auto_columns": null,
      "grid_auto_flow": null,
      "grid_auto_rows": null,
      "grid_column": null,
      "grid_gap": null,
      "grid_row": null,
      "grid_template_areas": null,
      "grid_template_columns": null,
      "grid_template_rows": null,
      "height": null,
      "justify_content": null,
      "justify_items": null,
      "left": null,
      "margin": null,
      "max_height": null,
      "max_width": null,
      "min_height": null,
      "min_width": null,
      "object_fit": null,
      "object_position": null,
      "order": null,
      "overflow": null,
      "overflow_x": null,
      "overflow_y": null,
      "padding": null,
      "right": null,
      "top": null,
      "visibility": null,
      "width": null
     }
    },
    "2bca9c6d77f74bb9b12efd1e859063df": {
     "model_module": "@jupyter-widgets/base",
     "model_module_version": "1.2.0",
     "model_name": "LayoutModel",
     "state": {
      "_model_module": "@jupyter-widgets/base",
      "_model_module_version": "1.2.0",
      "_model_name": "LayoutModel",
      "_view_count": null,
      "_view_module": "@jupyter-widgets/base",
      "_view_module_version": "1.2.0",
      "_view_name": "LayoutView",
      "align_content": null,
      "align_items": null,
      "align_self": null,
      "border": null,
      "bottom": null,
      "display": null,
      "flex": null,
      "flex_flow": null,
      "grid_area": null,
      "grid_auto_columns": null,
      "grid_auto_flow": null,
      "grid_auto_rows": null,
      "grid_column": null,
      "grid_gap": null,
      "grid_row": null,
      "grid_template_areas": null,
      "grid_template_columns": null,
      "grid_template_rows": null,
      "height": null,
      "justify_content": null,
      "justify_items": null,
      "left": null,
      "margin": null,
      "max_height": null,
      "max_width": null,
      "min_height": null,
      "min_width": null,
      "object_fit": null,
      "object_position": null,
      "order": null,
      "overflow": null,
      "overflow_x": null,
      "overflow_y": null,
      "padding": null,
      "right": null,
      "top": null,
      "visibility": null,
      "width": null
     }
    },
    "2e10db2a371241b8af19b4b458e8d695": {
     "model_module": "@jupyter-widgets/base",
     "model_module_version": "1.2.0",
     "model_name": "LayoutModel",
     "state": {
      "_model_module": "@jupyter-widgets/base",
      "_model_module_version": "1.2.0",
      "_model_name": "LayoutModel",
      "_view_count": null,
      "_view_module": "@jupyter-widgets/base",
      "_view_module_version": "1.2.0",
      "_view_name": "LayoutView",
      "align_content": null,
      "align_items": null,
      "align_self": null,
      "border": null,
      "bottom": null,
      "display": null,
      "flex": null,
      "flex_flow": null,
      "grid_area": null,
      "grid_auto_columns": null,
      "grid_auto_flow": null,
      "grid_auto_rows": null,
      "grid_column": null,
      "grid_gap": null,
      "grid_row": null,
      "grid_template_areas": null,
      "grid_template_columns": null,
      "grid_template_rows": null,
      "height": null,
      "justify_content": null,
      "justify_items": null,
      "left": null,
      "margin": null,
      "max_height": null,
      "max_width": null,
      "min_height": null,
      "min_width": null,
      "object_fit": null,
      "object_position": null,
      "order": null,
      "overflow": null,
      "overflow_x": null,
      "overflow_y": null,
      "padding": null,
      "right": null,
      "top": null,
      "visibility": null,
      "width": null
     }
    },
    "2feca6928dc9428387500e4827eaada9": {
     "model_module": "@jupyter-widgets/controls",
     "model_module_version": "1.5.0",
     "model_name": "FloatProgressModel",
     "state": {
      "_dom_classes": [],
      "_model_module": "@jupyter-widgets/controls",
      "_model_module_version": "1.5.0",
      "_model_name": "FloatProgressModel",
      "_view_count": null,
      "_view_module": "@jupyter-widgets/controls",
      "_view_module_version": "1.5.0",
      "_view_name": "ProgressView",
      "bar_style": "success",
      "description": "",
      "description_tooltip": null,
      "layout": "IPY_MODEL_bbbd718cc0b04b96adef602cbeda4a03",
      "max": 4540516344,
      "min": 0,
      "orientation": "horizontal",
      "style": "IPY_MODEL_6c52e84a79cf4bf787efacbafa7082de",
      "value": 4540516344
     }
    },
    "32d65e8ed59d418baf217e6fb50a26c1": {
     "model_module": "@jupyter-widgets/controls",
     "model_module_version": "1.5.0",
     "model_name": "HTMLModel",
     "state": {
      "_dom_classes": [],
      "_model_module": "@jupyter-widgets/controls",
      "_model_module_version": "1.5.0",
      "_model_name": "HTMLModel",
      "_view_count": null,
      "_view_module": "@jupyter-widgets/controls",
      "_view_module_version": "1.5.0",
      "_view_name": "HTMLView",
      "description": "",
      "description_tooltip": null,
      "layout": "IPY_MODEL_01173ff427534c968648e59e999ab295",
      "placeholder": "​",
      "style": "IPY_MODEL_f1a8e40773724fdb8feee7cb190f2a81",
      "value": "Downloading shards: 100%"
     }
    },
    "32f98eec51764323ba6bdac9a6adbf2e": {
     "model_module": "@jupyter-widgets/controls",
     "model_module_version": "1.5.0",
     "model_name": "DescriptionStyleModel",
     "state": {
      "_model_module": "@jupyter-widgets/controls",
      "_model_module_version": "1.5.0",
      "_model_name": "DescriptionStyleModel",
      "_view_count": null,
      "_view_module": "@jupyter-widgets/base",
      "_view_module_version": "1.2.0",
      "_view_name": "StyleView",
      "description_width": ""
     }
    },
    "373339f98b26439cb1b234263d5a9cc2": {
     "model_module": "@jupyter-widgets/controls",
     "model_module_version": "1.5.0",
     "model_name": "FloatProgressModel",
     "state": {
      "_dom_classes": [],
      "_model_module": "@jupyter-widgets/controls",
      "_model_module_version": "1.5.0",
      "_model_name": "FloatProgressModel",
      "_view_count": null,
      "_view_module": "@jupyter-widgets/controls",
      "_view_module_version": "1.5.0",
      "_view_name": "ProgressView",
      "bar_style": "success",
      "description": "",
      "description_tooltip": null,
      "layout": "IPY_MODEL_cc237b1ed3b1428b8d4d0bb888331d97",
      "max": 2,
      "min": 0,
      "orientation": "horizontal",
      "style": "IPY_MODEL_3bdec08a9fd14af2b525281f7d9ac124",
      "value": 2
     }
    },
    "3749dccc6f6546f5b6e7b4486350370f": {
     "model_module": "@jupyter-widgets/controls",
     "model_module_version": "1.5.0",
     "model_name": "HTMLModel",
     "state": {
      "_dom_classes": [],
      "_model_module": "@jupyter-widgets/controls",
      "_model_module_version": "1.5.0",
      "_model_name": "HTMLModel",
      "_view_count": null,
      "_view_module": "@jupyter-widgets/controls",
      "_view_module_version": "1.5.0",
      "_view_name": "HTMLView",
      "description": "",
      "description_tooltip": null,
      "layout": "IPY_MODEL_cfb01d7672b540ba84200a2eac5fb794",
      "placeholder": "​",
      "style": "IPY_MODEL_42cb8a7011ea48a2a18b07e14a7b1026",
      "value": "Loading checkpoint shards: 100%"
     }
    },
    "3a2b1486268f4a75898f56018e2109b2": {
     "model_module": "@jupyter-widgets/controls",
     "model_module_version": "1.5.0",
     "model_name": "DescriptionStyleModel",
     "state": {
      "_model_module": "@jupyter-widgets/controls",
      "_model_module_version": "1.5.0",
      "_model_name": "DescriptionStyleModel",
      "_view_count": null,
      "_view_module": "@jupyter-widgets/base",
      "_view_module_version": "1.2.0",
      "_view_name": "StyleView",
      "description_width": ""
     }
    },
    "3bdec08a9fd14af2b525281f7d9ac124": {
     "model_module": "@jupyter-widgets/controls",
     "model_module_version": "1.5.0",
     "model_name": "ProgressStyleModel",
     "state": {
      "_model_module": "@jupyter-widgets/controls",
      "_model_module_version": "1.5.0",
      "_model_name": "ProgressStyleModel",
      "_view_count": null,
      "_view_module": "@jupyter-widgets/base",
      "_view_module_version": "1.2.0",
      "_view_name": "StyleView",
      "bar_color": null,
      "description_width": ""
     }
    },
    "3fb6c60732fd465cb20f4df41f31ce39": {
     "model_module": "@jupyter-widgets/controls",
     "model_module_version": "1.5.0",
     "model_name": "HTMLModel",
     "state": {
      "_dom_classes": [],
      "_model_module": "@jupyter-widgets/controls",
      "_model_module_version": "1.5.0",
      "_model_name": "HTMLModel",
      "_view_count": null,
      "_view_module": "@jupyter-widgets/controls",
      "_view_module_version": "1.5.0",
      "_view_name": "HTMLView",
      "description": "",
      "description_tooltip": null,
      "layout": "IPY_MODEL_0a1619c771214ba9bfe7b55e4f91de3c",
      "placeholder": "​",
      "style": "IPY_MODEL_d4822d0e6ef54c9fbd1b7fd7dd5487eb",
      "value": " 2.10k/2.10k [00:00&lt;00:00, 187kB/s]"
     }
    },
    "3ff7de5a7ce24f35830cf24994c8c45e": {
     "model_module": "@jupyter-widgets/base",
     "model_module_version": "1.2.0",
     "model_name": "LayoutModel",
     "state": {
      "_model_module": "@jupyter-widgets/base",
      "_model_module_version": "1.2.0",
      "_model_name": "LayoutModel",
      "_view_count": null,
      "_view_module": "@jupyter-widgets/base",
      "_view_module_version": "1.2.0",
      "_view_name": "LayoutView",
      "align_content": null,
      "align_items": null,
      "align_self": null,
      "border": null,
      "bottom": null,
      "display": null,
      "flex": null,
      "flex_flow": null,
      "grid_area": null,
      "grid_auto_columns": null,
      "grid_auto_flow": null,
      "grid_auto_rows": null,
      "grid_column": null,
      "grid_gap": null,
      "grid_row": null,
      "grid_template_areas": null,
      "grid_template_columns": null,
      "grid_template_rows": null,
      "height": null,
      "justify_content": null,
      "justify_items": null,
      "left": null,
      "margin": null,
      "max_height": null,
      "max_width": null,
      "min_height": null,
      "min_width": null,
      "object_fit": null,
      "object_position": null,
      "order": null,
      "overflow": null,
      "overflow_x": null,
      "overflow_y": null,
      "padding": null,
      "right": null,
      "top": null,
      "visibility": null,
      "width": null
     }
    },
    "40b7eb18f1b24fb9844f328da807e83f": {
     "model_module": "@jupyter-widgets/controls",
     "model_module_version": "1.5.0",
     "model_name": "HTMLModel",
     "state": {
      "_dom_classes": [],
      "_model_module": "@jupyter-widgets/controls",
      "_model_module_version": "1.5.0",
      "_model_name": "HTMLModel",
      "_view_count": null,
      "_view_module": "@jupyter-widgets/controls",
      "_view_module_version": "1.5.0",
      "_view_name": "HTMLView",
      "description": "",
      "description_tooltip": null,
      "layout": "IPY_MODEL_cc18a68e9c6043a896389c159ba82108",
      "placeholder": "​",
      "style": "IPY_MODEL_ba766944a87f4fa8a6e49998f755205f",
      "value": " 571/571 [00:00&lt;00:00, 35.5kB/s]"
     }
    },
    "425d10b1620c475391cc47b51c38a141": {
     "model_module": "@jupyter-widgets/base",
     "model_module_version": "1.2.0",
     "model_name": "LayoutModel",
     "state": {
      "_model_module": "@jupyter-widgets/base",
      "_model_module_version": "1.2.0",
      "_model_name": "LayoutModel",
      "_view_count": null,
      "_view_module": "@jupyter-widgets/base",
      "_view_module_version": "1.2.0",
      "_view_name": "LayoutView",
      "align_content": null,
      "align_items": null,
      "align_self": null,
      "border": null,
      "bottom": null,
      "display": null,
      "flex": null,
      "flex_flow": null,
      "grid_area": null,
      "grid_auto_columns": null,
      "grid_auto_flow": null,
      "grid_auto_rows": null,
      "grid_column": null,
      "grid_gap": null,
      "grid_row": null,
      "grid_template_areas": null,
      "grid_template_columns": null,
      "grid_template_rows": null,
      "height": null,
      "justify_content": null,
      "justify_items": null,
      "left": null,
      "margin": null,
      "max_height": null,
      "max_width": null,
      "min_height": null,
      "min_width": null,
      "object_fit": null,
      "object_position": null,
      "order": null,
      "overflow": null,
      "overflow_x": null,
      "overflow_y": null,
      "padding": null,
      "right": null,
      "top": null,
      "visibility": null,
      "width": null
     }
    },
    "42b94e96d2f7456b8f1f0f8f74eeef19": {
     "model_module": "@jupyter-widgets/controls",
     "model_module_version": "1.5.0",
     "model_name": "FloatProgressModel",
     "state": {
      "_dom_classes": [],
      "_model_module": "@jupyter-widgets/controls",
      "_model_module_version": "1.5.0",
      "_model_name": "FloatProgressModel",
      "_view_count": null,
      "_view_module": "@jupyter-widgets/controls",
      "_view_module_version": "1.5.0",
      "_view_name": "ProgressView",
      "bar_style": "success",
      "description": "",
      "description_tooltip": null,
      "layout": "IPY_MODEL_3ff7de5a7ce24f35830cf24994c8c45e",
      "max": 571,
      "min": 0,
      "orientation": "horizontal",
      "style": "IPY_MODEL_9349994b18a44b3b89b78a5a3a0b9703",
      "value": 571
     }
    },
    "42cb8a7011ea48a2a18b07e14a7b1026": {
     "model_module": "@jupyter-widgets/controls",
     "model_module_version": "1.5.0",
     "model_name": "DescriptionStyleModel",
     "state": {
      "_model_module": "@jupyter-widgets/controls",
      "_model_module_version": "1.5.0",
      "_model_name": "DescriptionStyleModel",
      "_view_count": null,
      "_view_module": "@jupyter-widgets/base",
      "_view_module_version": "1.2.0",
      "_view_name": "StyleView",
      "description_width": ""
     }
    },
    "468957607d174967b6cbc280b5b1ef4d": {
     "model_module": "@jupyter-widgets/base",
     "model_module_version": "1.2.0",
     "model_name": "LayoutModel",
     "state": {
      "_model_module": "@jupyter-widgets/base",
      "_model_module_version": "1.2.0",
      "_model_name": "LayoutModel",
      "_view_count": null,
      "_view_module": "@jupyter-widgets/base",
      "_view_module_version": "1.2.0",
      "_view_name": "LayoutView",
      "align_content": null,
      "align_items": null,
      "align_self": null,
      "border": null,
      "bottom": null,
      "display": null,
      "flex": null,
      "flex_flow": null,
      "grid_area": null,
      "grid_auto_columns": null,
      "grid_auto_flow": null,
      "grid_auto_rows": null,
      "grid_column": null,
      "grid_gap": null,
      "grid_row": null,
      "grid_template_areas": null,
      "grid_template_columns": null,
      "grid_template_rows": null,
      "height": null,
      "justify_content": null,
      "justify_items": null,
      "left": null,
      "margin": null,
      "max_height": null,
      "max_width": null,
      "min_height": null,
      "min_width": null,
      "object_fit": null,
      "object_position": null,
      "order": null,
      "overflow": null,
      "overflow_x": null,
      "overflow_y": null,
      "padding": null,
      "right": null,
      "top": null,
      "visibility": null,
      "width": null
     }
    },
    "4965140f1e544abe9f5f2210b5e46f37": {
     "model_module": "@jupyter-widgets/controls",
     "model_module_version": "1.5.0",
     "model_name": "ProgressStyleModel",
     "state": {
      "_model_module": "@jupyter-widgets/controls",
      "_model_module_version": "1.5.0",
      "_model_name": "ProgressStyleModel",
      "_view_count": null,
      "_view_module": "@jupyter-widgets/base",
      "_view_module_version": "1.2.0",
      "_view_name": "StyleView",
      "bar_color": null,
      "description_width": ""
     }
    },
    "4ae41471f1d0485c946058d2940b9955": {
     "model_module": "@jupyter-widgets/controls",
     "model_module_version": "1.5.0",
     "model_name": "DescriptionStyleModel",
     "state": {
      "_model_module": "@jupyter-widgets/controls",
      "_model_module_version": "1.5.0",
      "_model_name": "DescriptionStyleModel",
      "_view_count": null,
      "_view_module": "@jupyter-widgets/base",
      "_view_module_version": "1.2.0",
      "_view_name": "StyleView",
      "description_width": ""
     }
    },
    "4cc58f4cf4d54485a6f49bbbc49c58ac": {
     "model_module": "@jupyter-widgets/controls",
     "model_module_version": "1.5.0",
     "model_name": "ProgressStyleModel",
     "state": {
      "_model_module": "@jupyter-widgets/controls",
      "_model_module_version": "1.5.0",
      "_model_name": "ProgressStyleModel",
      "_view_count": null,
      "_view_module": "@jupyter-widgets/base",
      "_view_module_version": "1.2.0",
      "_view_name": "StyleView",
      "bar_color": null,
      "description_width": ""
     }
    },
    "4cf20be870934fafa221957cf5e90c7d": {
     "model_module": "@jupyter-widgets/base",
     "model_module_version": "1.2.0",
     "model_name": "LayoutModel",
     "state": {
      "_model_module": "@jupyter-widgets/base",
      "_model_module_version": "1.2.0",
      "_model_name": "LayoutModel",
      "_view_count": null,
      "_view_module": "@jupyter-widgets/base",
      "_view_module_version": "1.2.0",
      "_view_name": "LayoutView",
      "align_content": null,
      "align_items": null,
      "align_self": null,
      "border": null,
      "bottom": null,
      "display": null,
      "flex": null,
      "flex_flow": null,
      "grid_area": null,
      "grid_auto_columns": null,
      "grid_auto_flow": null,
      "grid_auto_rows": null,
      "grid_column": null,
      "grid_gap": null,
      "grid_row": null,
      "grid_template_areas": null,
      "grid_template_columns": null,
      "grid_template_rows": null,
      "height": null,
      "justify_content": null,
      "justify_items": null,
      "left": null,
      "margin": null,
      "max_height": null,
      "max_width": null,
      "min_height": null,
      "min_width": null,
      "object_fit": null,
      "object_position": null,
      "order": null,
      "overflow": null,
      "overflow_x": null,
      "overflow_y": null,
      "padding": null,
      "right": null,
      "top": null,
      "visibility": null,
      "width": null
     }
    },
    "53ed1fe41b3b47d48d10e562ba92d42e": {
     "model_module": "@jupyter-widgets/base",
     "model_module_version": "1.2.0",
     "model_name": "LayoutModel",
     "state": {
      "_model_module": "@jupyter-widgets/base",
      "_model_module_version": "1.2.0",
      "_model_name": "LayoutModel",
      "_view_count": null,
      "_view_module": "@jupyter-widgets/base",
      "_view_module_version": "1.2.0",
      "_view_name": "LayoutView",
      "align_content": null,
      "align_items": null,
      "align_self": null,
      "border": null,
      "bottom": null,
      "display": null,
      "flex": null,
      "flex_flow": null,
      "grid_area": null,
      "grid_auto_columns": null,
      "grid_auto_flow": null,
      "grid_auto_rows": null,
      "grid_column": null,
      "grid_gap": null,
      "grid_row": null,
      "grid_template_areas": null,
      "grid_template_columns": null,
      "grid_template_rows": null,
      "height": null,
      "justify_content": null,
      "justify_items": null,
      "left": null,
      "margin": null,
      "max_height": null,
      "max_width": null,
      "min_height": null,
      "min_width": null,
      "object_fit": null,
      "object_position": null,
      "order": null,
      "overflow": null,
      "overflow_x": null,
      "overflow_y": null,
      "padding": null,
      "right": null,
      "top": null,
      "visibility": null,
      "width": null
     }
    },
    "5d006072f0664dcdb1e4fd25b647ffdc": {
     "model_module": "@jupyter-widgets/controls",
     "model_module_version": "1.5.0",
     "model_name": "DescriptionStyleModel",
     "state": {
      "_model_module": "@jupyter-widgets/controls",
      "_model_module_version": "1.5.0",
      "_model_name": "DescriptionStyleModel",
      "_view_count": null,
      "_view_module": "@jupyter-widgets/base",
      "_view_module_version": "1.2.0",
      "_view_name": "StyleView",
      "description_width": ""
     }
    },
    "5e247d8adfe24c0aa01bfb1de82dbf9d": {
     "model_module": "@jupyter-widgets/controls",
     "model_module_version": "1.5.0",
     "model_name": "HBoxModel",
     "state": {
      "_dom_classes": [],
      "_model_module": "@jupyter-widgets/controls",
      "_model_module_version": "1.5.0",
      "_model_name": "HBoxModel",
      "_view_count": null,
      "_view_module": "@jupyter-widgets/controls",
      "_view_module_version": "1.5.0",
      "_view_name": "HBoxView",
      "box_style": "",
      "children": [
       "IPY_MODEL_b2fe43cdd2d14f34be9302fef70b365d",
       "IPY_MODEL_2feca6928dc9428387500e4827eaada9",
       "IPY_MODEL_1d66ed196fc34aeb9d069796f031c1b3"
      ],
      "layout": "IPY_MODEL_99c12350c2c54d3a8fde33aa3782cead"
     }
    },
    "5ee055d6a7ff48ff86b10169cbe62201": {
     "model_module": "@jupyter-widgets/controls",
     "model_module_version": "1.5.0",
     "model_name": "ProgressStyleModel",
     "state": {
      "_model_module": "@jupyter-widgets/controls",
      "_model_module_version": "1.5.0",
      "_model_name": "ProgressStyleModel",
      "_view_count": null,
      "_view_module": "@jupyter-widgets/base",
      "_view_module_version": "1.2.0",
      "_view_name": "StyleView",
      "bar_color": null,
      "description_width": ""
     }
    },
    "61f2bb9bdf834f8d9cb0281f05ad7bac": {
     "model_module": "@jupyter-widgets/controls",
     "model_module_version": "1.5.0",
     "model_name": "HTMLModel",
     "state": {
      "_dom_classes": [],
      "_model_module": "@jupyter-widgets/controls",
      "_model_module_version": "1.5.0",
      "_model_name": "HTMLModel",
      "_view_count": null,
      "_view_module": "@jupyter-widgets/controls",
      "_view_module_version": "1.5.0",
      "_view_name": "HTMLView",
      "description": "",
      "description_tooltip": null,
      "layout": "IPY_MODEL_1f27c73af798490c8affadde157b1964",
      "placeholder": "​",
      "style": "IPY_MODEL_f668b85222b04f19b7ba66a01cf39b6e",
      "value": " 9.94G/9.94G [00:50&lt;00:00, 166MB/s]"
     }
    },
    "6471d107874542c6af4432be3f3467c9": {
     "model_module": "@jupyter-widgets/base",
     "model_module_version": "1.2.0",
     "model_name": "LayoutModel",
     "state": {
      "_model_module": "@jupyter-widgets/base",
      "_model_module_version": "1.2.0",
      "_model_name": "LayoutModel",
      "_view_count": null,
      "_view_module": "@jupyter-widgets/base",
      "_view_module_version": "1.2.0",
      "_view_name": "LayoutView",
      "align_content": null,
      "align_items": null,
      "align_self": null,
      "border": null,
      "bottom": null,
      "display": null,
      "flex": null,
      "flex_flow": null,
      "grid_area": null,
      "grid_auto_columns": null,
      "grid_auto_flow": null,
      "grid_auto_rows": null,
      "grid_column": null,
      "grid_gap": null,
      "grid_row": null,
      "grid_template_areas": null,
      "grid_template_columns": null,
      "grid_template_rows": null,
      "height": null,
      "justify_content": null,
      "justify_items": null,
      "left": null,
      "margin": null,
      "max_height": null,
      "max_width": null,
      "min_height": null,
      "min_width": null,
      "object_fit": null,
      "object_position": null,
      "order": null,
      "overflow": null,
      "overflow_x": null,
      "overflow_y": null,
      "padding": null,
      "right": null,
      "top": null,
      "visibility": null,
      "width": null
     }
    },
    "6475888e375c47e497f60af135757e45": {
     "model_module": "@jupyter-widgets/base",
     "model_module_version": "1.2.0",
     "model_name": "LayoutModel",
     "state": {
      "_model_module": "@jupyter-widgets/base",
      "_model_module_version": "1.2.0",
      "_model_name": "LayoutModel",
      "_view_count": null,
      "_view_module": "@jupyter-widgets/base",
      "_view_module_version": "1.2.0",
      "_view_name": "LayoutView",
      "align_content": null,
      "align_items": null,
      "align_self": null,
      "border": null,
      "bottom": null,
      "display": null,
      "flex": null,
      "flex_flow": null,
      "grid_area": null,
      "grid_auto_columns": null,
      "grid_auto_flow": null,
      "grid_auto_rows": null,
      "grid_column": null,
      "grid_gap": null,
      "grid_row": null,
      "grid_template_areas": null,
      "grid_template_columns": null,
      "grid_template_rows": null,
      "height": null,
      "justify_content": null,
      "justify_items": null,
      "left": null,
      "margin": null,
      "max_height": null,
      "max_width": null,
      "min_height": null,
      "min_width": null,
      "object_fit": null,
      "object_position": null,
      "order": null,
      "overflow": null,
      "overflow_x": null,
      "overflow_y": null,
      "padding": null,
      "right": null,
      "top": null,
      "visibility": null,
      "width": null
     }
    },
    "64db26e13a1f4328bfc8d28fc853827c": {
     "model_module": "@jupyter-widgets/controls",
     "model_module_version": "1.5.0",
     "model_name": "HTMLModel",
     "state": {
      "_dom_classes": [],
      "_model_module": "@jupyter-widgets/controls",
      "_model_module_version": "1.5.0",
      "_model_name": "HTMLModel",
      "_view_count": null,
      "_view_module": "@jupyter-widgets/controls",
      "_view_module_version": "1.5.0",
      "_view_name": "HTMLView",
      "description": "",
      "description_tooltip": null,
      "layout": "IPY_MODEL_185f9690581d4fdfa353c39ecc5daa38",
      "placeholder": "​",
      "style": "IPY_MODEL_1cf1928132374a9e9d39c8b9e6a3b551",
      "value": " 1.80M/1.80M [00:00&lt;00:00, 28.7MB/s]"
     }
    },
    "64ea101e0ee8478691d7043f77d7c946": {
     "model_module": "@jupyter-widgets/controls",
     "model_module_version": "1.5.0",
     "model_name": "DescriptionStyleModel",
     "state": {
      "_model_module": "@jupyter-widgets/controls",
      "_model_module_version": "1.5.0",
      "_model_name": "DescriptionStyleModel",
      "_view_count": null,
      "_view_module": "@jupyter-widgets/base",
      "_view_module_version": "1.2.0",
      "_view_name": "StyleView",
      "description_width": ""
     }
    },
    "657914cb1ab245cb9ef6cc14165061a8": {
     "model_module": "@jupyter-widgets/controls",
     "model_module_version": "1.5.0",
     "model_name": "HTMLModel",
     "state": {
      "_dom_classes": [],
      "_model_module": "@jupyter-widgets/controls",
      "_model_module_version": "1.5.0",
      "_model_name": "HTMLModel",
      "_view_count": null,
      "_view_module": "@jupyter-widgets/controls",
      "_view_module_version": "1.5.0",
      "_view_name": "HTMLView",
      "description": "",
      "description_tooltip": null,
      "layout": "IPY_MODEL_b57021d29f5f44dd8a9cddc9b82d5922",
      "placeholder": "​",
      "style": "IPY_MODEL_b2f49e44d0d3448da146707e50be387b",
      "value": "tokenizer.json: 100%"
     }
    },
    "66b8e1c86ba848f79f67546af812f98a": {
     "model_module": "@jupyter-widgets/controls",
     "model_module_version": "1.5.0",
     "model_name": "FloatProgressModel",
     "state": {
      "_dom_classes": [],
      "_model_module": "@jupyter-widgets/controls",
      "_model_module_version": "1.5.0",
      "_model_name": "FloatProgressModel",
      "_view_count": null,
      "_view_module": "@jupyter-widgets/controls",
      "_view_module_version": "1.5.0",
      "_view_name": "ProgressView",
      "bar_style": "success",
      "description": "",
      "description_tooltip": null,
      "layout": "IPY_MODEL_a1cbe320dab64fa7b67a8ab68a7c2b5d",
      "max": 2103,
      "min": 0,
      "orientation": "horizontal",
      "style": "IPY_MODEL_5ee055d6a7ff48ff86b10169cbe62201",
      "value": 2103
     }
    },
    "67102baa84ac4729bdbe5e75ce8f2cd3": {
     "model_module": "@jupyter-widgets/base",
     "model_module_version": "1.2.0",
     "model_name": "LayoutModel",
     "state": {
      "_model_module": "@jupyter-widgets/base",
      "_model_module_version": "1.2.0",
      "_model_name": "LayoutModel",
      "_view_count": null,
      "_view_module": "@jupyter-widgets/base",
      "_view_module_version": "1.2.0",
      "_view_name": "LayoutView",
      "align_content": null,
      "align_items": null,
      "align_self": null,
      "border": null,
      "bottom": null,
      "display": null,
      "flex": null,
      "flex_flow": null,
      "grid_area": null,
      "grid_auto_columns": null,
      "grid_auto_flow": null,
      "grid_auto_rows": null,
      "grid_column": null,
      "grid_gap": null,
      "grid_row": null,
      "grid_template_areas": null,
      "grid_template_columns": null,
      "grid_template_rows": null,
      "height": null,
      "justify_content": null,
      "justify_items": null,
      "left": null,
      "margin": null,
      "max_height": null,
      "max_width": null,
      "min_height": null,
      "min_width": null,
      "object_fit": null,
      "object_position": null,
      "order": null,
      "overflow": null,
      "overflow_x": null,
      "overflow_y": null,
      "padding": null,
      "right": null,
      "top": null,
      "visibility": null,
      "width": null
     }
    },
    "690e8155d8c44cdd9c7fd3ee520e2b50": {
     "model_module": "@jupyter-widgets/controls",
     "model_module_version": "1.5.0",
     "model_name": "FloatProgressModel",
     "state": {
      "_dom_classes": [],
      "_model_module": "@jupyter-widgets/controls",
      "_model_module_version": "1.5.0",
      "_model_name": "FloatProgressModel",
      "_view_count": null,
      "_view_module": "@jupyter-widgets/controls",
      "_view_module_version": "1.5.0",
      "_view_name": "ProgressView",
      "bar_style": "success",
      "description": "",
      "description_tooltip": null,
      "layout": "IPY_MODEL_decd22915fa2445c909526254c9fb26e",
      "max": 493443,
      "min": 0,
      "orientation": "horizontal",
      "style": "IPY_MODEL_4cc58f4cf4d54485a6f49bbbc49c58ac",
      "value": 493443
     }
    },
    "6b8153e6c5a3487b97df1298bf5cf7bc": {
     "model_module": "@jupyter-widgets/controls",
     "model_module_version": "1.5.0",
     "model_name": "HBoxModel",
     "state": {
      "_dom_classes": [],
      "_model_module": "@jupyter-widgets/controls",
      "_model_module_version": "1.5.0",
      "_model_name": "HBoxModel",
      "_view_count": null,
      "_view_module": "@jupyter-widgets/controls",
      "_view_module_version": "1.5.0",
      "_view_name": "HBoxView",
      "box_style": "",
      "children": [
       "IPY_MODEL_c1b776ff069c4750b69cd7c33b99c835",
       "IPY_MODEL_fc7cf171f1684e3e9bd170d3937e44f5",
       "IPY_MODEL_eff4370bd66a4d6d995278995fa23605"
      ],
      "layout": "IPY_MODEL_4cf20be870934fafa221957cf5e90c7d"
     }
    },
    "6c52e84a79cf4bf787efacbafa7082de": {
     "model_module": "@jupyter-widgets/controls",
     "model_module_version": "1.5.0",
     "model_name": "ProgressStyleModel",
     "state": {
      "_model_module": "@jupyter-widgets/controls",
      "_model_module_version": "1.5.0",
      "_model_name": "ProgressStyleModel",
      "_view_count": null,
      "_view_module": "@jupyter-widgets/base",
      "_view_module_version": "1.2.0",
      "_view_name": "StyleView",
      "bar_color": null,
      "description_width": ""
     }
    },
    "6d4e2131009047bf9465743a06d19786": {
     "model_module": "@jupyter-widgets/controls",
     "model_module_version": "1.5.0",
     "model_name": "DescriptionStyleModel",
     "state": {
      "_model_module": "@jupyter-widgets/controls",
      "_model_module_version": "1.5.0",
      "_model_name": "DescriptionStyleModel",
      "_view_count": null,
      "_view_module": "@jupyter-widgets/base",
      "_view_module_version": "1.2.0",
      "_view_name": "StyleView",
      "description_width": ""
     }
    },
    "750cf5a1ef394a5cab5e6c7360d4609b": {
     "model_module": "@jupyter-widgets/controls",
     "model_module_version": "1.5.0",
     "model_name": "ProgressStyleModel",
     "state": {
      "_model_module": "@jupyter-widgets/controls",
      "_model_module_version": "1.5.0",
      "_model_name": "ProgressStyleModel",
      "_view_count": null,
      "_view_module": "@jupyter-widgets/base",
      "_view_module_version": "1.2.0",
      "_view_name": "StyleView",
      "bar_color": null,
      "description_width": ""
     }
    },
    "75304bc3c0244f04b97e80d81c85c1ef": {
     "model_module": "@jupyter-widgets/controls",
     "model_module_version": "1.5.0",
     "model_name": "DescriptionStyleModel",
     "state": {
      "_model_module": "@jupyter-widgets/controls",
      "_model_module_version": "1.5.0",
      "_model_name": "DescriptionStyleModel",
      "_view_count": null,
      "_view_module": "@jupyter-widgets/base",
      "_view_module_version": "1.2.0",
      "_view_name": "StyleView",
      "description_width": ""
     }
    },
    "788fa0425bd047c6ab9d98178c31ae32": {
     "model_module": "@jupyter-widgets/controls",
     "model_module_version": "1.5.0",
     "model_name": "ProgressStyleModel",
     "state": {
      "_model_module": "@jupyter-widgets/controls",
      "_model_module_version": "1.5.0",
      "_model_name": "ProgressStyleModel",
      "_view_count": null,
      "_view_module": "@jupyter-widgets/base",
      "_view_module_version": "1.2.0",
      "_view_name": "StyleView",
      "bar_color": null,
      "description_width": ""
     }
    },
    "78dabb31246640819b69552cb1455705": {
     "model_module": "@jupyter-widgets/controls",
     "model_module_version": "1.5.0",
     "model_name": "FloatProgressModel",
     "state": {
      "_dom_classes": [],
      "_model_module": "@jupyter-widgets/controls",
      "_model_module_version": "1.5.0",
      "_model_name": "FloatProgressModel",
      "_view_count": null,
      "_view_module": "@jupyter-widgets/controls",
      "_view_module_version": "1.5.0",
      "_view_name": "ProgressView",
      "bar_style": "success",
      "description": "",
      "description_tooltip": null,
      "layout": "IPY_MODEL_67102baa84ac4729bdbe5e75ce8f2cd3",
      "max": 1795188,
      "min": 0,
      "orientation": "horizontal",
      "style": "IPY_MODEL_8238211e8e8c4a16869652f679583869",
      "value": 1795188
     }
    },
    "7eb59566c18c4b1fb51cddba3e8997e9": {
     "model_module": "@jupyter-widgets/controls",
     "model_module_version": "1.5.0",
     "model_name": "HBoxModel",
     "state": {
      "_dom_classes": [],
      "_model_module": "@jupyter-widgets/controls",
      "_model_module_version": "1.5.0",
      "_model_name": "HBoxModel",
      "_view_count": null,
      "_view_module": "@jupyter-widgets/controls",
      "_view_module_version": "1.5.0",
      "_view_name": "HBoxView",
      "box_style": "",
      "children": [
       "IPY_MODEL_df24452e1e0645e48f1262011fd098e0",
       "IPY_MODEL_690e8155d8c44cdd9c7fd3ee520e2b50",
       "IPY_MODEL_bcb0561cb16c40d184b55e72dfe522e4"
      ],
      "layout": "IPY_MODEL_a7281ec6c038471bb6461f796116ae68"
     }
    },
    "8238211e8e8c4a16869652f679583869": {
     "model_module": "@jupyter-widgets/controls",
     "model_module_version": "1.5.0",
     "model_name": "ProgressStyleModel",
     "state": {
      "_model_module": "@jupyter-widgets/controls",
      "_model_module_version": "1.5.0",
      "_model_name": "ProgressStyleModel",
      "_view_count": null,
      "_view_module": "@jupyter-widgets/base",
      "_view_module_version": "1.2.0",
      "_view_name": "StyleView",
      "bar_color": null,
      "description_width": ""
     }
    },
    "87dd04ef0a264ee7a0ba4d94a10041d8": {
     "model_module": "@jupyter-widgets/controls",
     "model_module_version": "1.5.0",
     "model_name": "HBoxModel",
     "state": {
      "_dom_classes": [],
      "_model_module": "@jupyter-widgets/controls",
      "_model_module_version": "1.5.0",
      "_model_name": "HBoxModel",
      "_view_count": null,
      "_view_module": "@jupyter-widgets/controls",
      "_view_module_version": "1.5.0",
      "_view_name": "HBoxView",
      "box_style": "",
      "children": [
       "IPY_MODEL_c0330592decb4e6f86069dd6519b7e12",
       "IPY_MODEL_42b94e96d2f7456b8f1f0f8f74eeef19",
       "IPY_MODEL_40b7eb18f1b24fb9844f328da807e83f"
      ],
      "layout": "IPY_MODEL_dabaad37ec154fd79bc60388eee56b33"
     }
    },
    "89724c11c1eb459789374c2cf31daeab": {
     "model_module": "@jupyter-widgets/base",
     "model_module_version": "1.2.0",
     "model_name": "LayoutModel",
     "state": {
      "_model_module": "@jupyter-widgets/base",
      "_model_module_version": "1.2.0",
      "_model_name": "LayoutModel",
      "_view_count": null,
      "_view_module": "@jupyter-widgets/base",
      "_view_module_version": "1.2.0",
      "_view_name": "LayoutView",
      "align_content": null,
      "align_items": null,
      "align_self": null,
      "border": null,
      "bottom": null,
      "display": null,
      "flex": null,
      "flex_flow": null,
      "grid_area": null,
      "grid_auto_columns": null,
      "grid_auto_flow": null,
      "grid_auto_rows": null,
      "grid_column": null,
      "grid_gap": null,
      "grid_row": null,
      "grid_template_areas": null,
      "grid_template_columns": null,
      "grid_template_rows": null,
      "height": null,
      "justify_content": null,
      "justify_items": null,
      "left": null,
      "margin": null,
      "max_height": null,
      "max_width": null,
      "min_height": null,
      "min_width": null,
      "object_fit": null,
      "object_position": null,
      "order": null,
      "overflow": null,
      "overflow_x": null,
      "overflow_y": null,
      "padding": null,
      "right": null,
      "top": null,
      "visibility": null,
      "width": null
     }
    },
    "8ae06a5add7d4d12827c9a419fcf6999": {
     "model_module": "@jupyter-widgets/controls",
     "model_module_version": "1.5.0",
     "model_name": "HBoxModel",
     "state": {
      "_dom_classes": [],
      "_model_module": "@jupyter-widgets/controls",
      "_model_module_version": "1.5.0",
      "_model_name": "HBoxModel",
      "_view_count": null,
      "_view_module": "@jupyter-widgets/controls",
      "_view_module_version": "1.5.0",
      "_view_name": "HBoxView",
      "box_style": "",
      "children": [
       "IPY_MODEL_657914cb1ab245cb9ef6cc14165061a8",
       "IPY_MODEL_78dabb31246640819b69552cb1455705",
       "IPY_MODEL_64db26e13a1f4328bfc8d28fc853827c"
      ],
      "layout": "IPY_MODEL_2bca9c6d77f74bb9b12efd1e859063df"
     }
    },
    "8c8a6f5fd6804328870047fa5fcd3b1a": {
     "model_module": "@jupyter-widgets/controls",
     "model_module_version": "1.5.0",
     "model_name": "HBoxModel",
     "state": {
      "_dom_classes": [],
      "_model_module": "@jupyter-widgets/controls",
      "_model_module_version": "1.5.0",
      "_model_name": "HBoxModel",
      "_view_count": null,
      "_view_module": "@jupyter-widgets/controls",
      "_view_module_version": "1.5.0",
      "_view_name": "HBoxView",
      "box_style": "",
      "children": [
       "IPY_MODEL_b8849bb0e55a404dbd67676d190c1593",
       "IPY_MODEL_66b8e1c86ba848f79f67546af812f98a",
       "IPY_MODEL_3fb6c60732fd465cb20f4df41f31ce39"
      ],
      "layout": "IPY_MODEL_ec2bbf177e2d464c881b394c6fc34440"
     }
    },
    "8e880ecb3ed04bb18912f1540f5bcb24": {
     "model_module": "@jupyter-widgets/base",
     "model_module_version": "1.2.0",
     "model_name": "LayoutModel",
     "state": {
      "_model_module": "@jupyter-widgets/base",
      "_model_module_version": "1.2.0",
      "_model_name": "LayoutModel",
      "_view_count": null,
      "_view_module": "@jupyter-widgets/base",
      "_view_module_version": "1.2.0",
      "_view_name": "LayoutView",
      "align_content": null,
      "align_items": null,
      "align_self": null,
      "border": null,
      "bottom": null,
      "display": null,
      "flex": null,
      "flex_flow": null,
      "grid_area": null,
      "grid_auto_columns": null,
      "grid_auto_flow": null,
      "grid_auto_rows": null,
      "grid_column": null,
      "grid_gap": null,
      "grid_row": null,
      "grid_template_areas": null,
      "grid_template_columns": null,
      "grid_template_rows": null,
      "height": null,
      "justify_content": null,
      "justify_items": null,
      "left": null,
      "margin": null,
      "max_height": null,
      "max_width": null,
      "min_height": null,
      "min_width": null,
      "object_fit": null,
      "object_position": null,
      "order": null,
      "overflow": null,
      "overflow_x": null,
      "overflow_y": null,
      "padding": null,
      "right": null,
      "top": null,
      "visibility": null,
      "width": null
     }
    },
    "90dba0c3003a4772b2d1d094c70b31a9": {
     "model_module": "@jupyter-widgets/controls",
     "model_module_version": "1.5.0",
     "model_name": "DescriptionStyleModel",
     "state": {
      "_model_module": "@jupyter-widgets/controls",
      "_model_module_version": "1.5.0",
      "_model_name": "DescriptionStyleModel",
      "_view_count": null,
      "_view_module": "@jupyter-widgets/base",
      "_view_module_version": "1.2.0",
      "_view_name": "StyleView",
      "description_width": ""
     }
    },
    "92d5cd6e56f1418f875eb2bf837fd26c": {
     "model_module": "@jupyter-widgets/controls",
     "model_module_version": "1.5.0",
     "model_name": "DescriptionStyleModel",
     "state": {
      "_model_module": "@jupyter-widgets/controls",
      "_model_module_version": "1.5.0",
      "_model_name": "DescriptionStyleModel",
      "_view_count": null,
      "_view_module": "@jupyter-widgets/base",
      "_view_module_version": "1.2.0",
      "_view_name": "StyleView",
      "description_width": ""
     }
    },
    "9349994b18a44b3b89b78a5a3a0b9703": {
     "model_module": "@jupyter-widgets/controls",
     "model_module_version": "1.5.0",
     "model_name": "ProgressStyleModel",
     "state": {
      "_model_module": "@jupyter-widgets/controls",
      "_model_module_version": "1.5.0",
      "_model_name": "ProgressStyleModel",
      "_view_count": null,
      "_view_module": "@jupyter-widgets/base",
      "_view_module_version": "1.2.0",
      "_view_name": "StyleView",
      "bar_color": null,
      "description_width": ""
     }
    },
    "948924057d3d4f6b905e69a760467f3a": {
     "model_module": "@jupyter-widgets/controls",
     "model_module_version": "1.5.0",
     "model_name": "FloatProgressModel",
     "state": {
      "_dom_classes": [],
      "_model_module": "@jupyter-widgets/controls",
      "_model_module_version": "1.5.0",
      "_model_name": "FloatProgressModel",
      "_view_count": null,
      "_view_module": "@jupyter-widgets/controls",
      "_view_module_version": "1.5.0",
      "_view_name": "ProgressView",
      "bar_style": "success",
      "description": "",
      "description_tooltip": null,
      "layout": "IPY_MODEL_03d8e87684a541bda189a274f41623c7",
      "max": 414,
      "min": 0,
      "orientation": "horizontal",
      "style": "IPY_MODEL_750cf5a1ef394a5cab5e6c7360d4609b",
      "value": 414
     }
    },
    "99c12350c2c54d3a8fde33aa3782cead": {
     "model_module": "@jupyter-widgets/base",
     "model_module_version": "1.2.0",
     "model_name": "LayoutModel",
     "state": {
      "_model_module": "@jupyter-widgets/base",
      "_model_module_version": "1.2.0",
      "_model_name": "LayoutModel",
      "_view_count": null,
      "_view_module": "@jupyter-widgets/base",
      "_view_module_version": "1.2.0",
      "_view_name": "LayoutView",
      "align_content": null,
      "align_items": null,
      "align_self": null,
      "border": null,
      "bottom": null,
      "display": null,
      "flex": null,
      "flex_flow": null,
      "grid_area": null,
      "grid_auto_columns": null,
      "grid_auto_flow": null,
      "grid_auto_rows": null,
      "grid_column": null,
      "grid_gap": null,
      "grid_row": null,
      "grid_template_areas": null,
      "grid_template_columns": null,
      "grid_template_rows": null,
      "height": null,
      "justify_content": null,
      "justify_items": null,
      "left": null,
      "margin": null,
      "max_height": null,
      "max_width": null,
      "min_height": null,
      "min_width": null,
      "object_fit": null,
      "object_position": null,
      "order": null,
      "overflow": null,
      "overflow_x": null,
      "overflow_y": null,
      "padding": null,
      "right": null,
      "top": null,
      "visibility": null,
      "width": null
     }
    },
    "99c7ea162fcb493c9394d5439616d4c0": {
     "model_module": "@jupyter-widgets/controls",
     "model_module_version": "1.5.0",
     "model_name": "HBoxModel",
     "state": {
      "_dom_classes": [],
      "_model_module": "@jupyter-widgets/controls",
      "_model_module_version": "1.5.0",
      "_model_name": "HBoxModel",
      "_view_count": null,
      "_view_module": "@jupyter-widgets/controls",
      "_view_module_version": "1.5.0",
      "_view_name": "HBoxView",
      "box_style": "",
      "children": [
       "IPY_MODEL_c1e261e523ff4df1b4ee29dcc370edf3",
       "IPY_MODEL_ef33309695bb4ff59956653b5affd3f3",
       "IPY_MODEL_c106fd0a54ce43de955c163211f883e4"
      ],
      "layout": "IPY_MODEL_6471d107874542c6af4432be3f3467c9"
     }
    },
    "9bf6d25101434c1893448827bd5eaa64": {
     "model_module": "@jupyter-widgets/controls",
     "model_module_version": "1.5.0",
     "model_name": "DescriptionStyleModel",
     "state": {
      "_model_module": "@jupyter-widgets/controls",
      "_model_module_version": "1.5.0",
      "_model_name": "DescriptionStyleModel",
      "_view_count": null,
      "_view_module": "@jupyter-widgets/base",
      "_view_module_version": "1.2.0",
      "_view_name": "StyleView",
      "description_width": ""
     }
    },
    "9d96e272c3314ccabe3eb25b502aa0ac": {
     "model_module": "@jupyter-widgets/base",
     "model_module_version": "1.2.0",
     "model_name": "LayoutModel",
     "state": {
      "_model_module": "@jupyter-widgets/base",
      "_model_module_version": "1.2.0",
      "_model_name": "LayoutModel",
      "_view_count": null,
      "_view_module": "@jupyter-widgets/base",
      "_view_module_version": "1.2.0",
      "_view_name": "LayoutView",
      "align_content": null,
      "align_items": null,
      "align_self": null,
      "border": null,
      "bottom": null,
      "display": null,
      "flex": null,
      "flex_flow": null,
      "grid_area": null,
      "grid_auto_columns": null,
      "grid_auto_flow": null,
      "grid_auto_rows": null,
      "grid_column": null,
      "grid_gap": null,
      "grid_row": null,
      "grid_template_areas": null,
      "grid_template_columns": null,
      "grid_template_rows": null,
      "height": null,
      "justify_content": null,
      "justify_items": null,
      "left": null,
      "margin": null,
      "max_height": null,
      "max_width": null,
      "min_height": null,
      "min_width": null,
      "object_fit": null,
      "object_position": null,
      "order": null,
      "overflow": null,
      "overflow_x": null,
      "overflow_y": null,
      "padding": null,
      "right": null,
      "top": null,
      "visibility": null,
      "width": null
     }
    },
    "a1cbe320dab64fa7b67a8ab68a7c2b5d": {
     "model_module": "@jupyter-widgets/base",
     "model_module_version": "1.2.0",
     "model_name": "LayoutModel",
     "state": {
      "_model_module": "@jupyter-widgets/base",
      "_model_module_version": "1.2.0",
      "_model_name": "LayoutModel",
      "_view_count": null,
      "_view_module": "@jupyter-widgets/base",
      "_view_module_version": "1.2.0",
      "_view_name": "LayoutView",
      "align_content": null,
      "align_items": null,
      "align_self": null,
      "border": null,
      "bottom": null,
      "display": null,
      "flex": null,
      "flex_flow": null,
      "grid_area": null,
      "grid_auto_columns": null,
      "grid_auto_flow": null,
      "grid_auto_rows": null,
      "grid_column": null,
      "grid_gap": null,
      "grid_row": null,
      "grid_template_areas": null,
      "grid_template_columns": null,
      "grid_template_rows": null,
      "height": null,
      "justify_content": null,
      "justify_items": null,
      "left": null,
      "margin": null,
      "max_height": null,
      "max_width": null,
      "min_height": null,
      "min_width": null,
      "object_fit": null,
      "object_position": null,
      "order": null,
      "overflow": null,
      "overflow_x": null,
      "overflow_y": null,
      "padding": null,
      "right": null,
      "top": null,
      "visibility": null,
      "width": null
     }
    },
    "a470f0ccca6a4628ada632a3f5254bdd": {
     "model_module": "@jupyter-widgets/base",
     "model_module_version": "1.2.0",
     "model_name": "LayoutModel",
     "state": {
      "_model_module": "@jupyter-widgets/base",
      "_model_module_version": "1.2.0",
      "_model_name": "LayoutModel",
      "_view_count": null,
      "_view_module": "@jupyter-widgets/base",
      "_view_module_version": "1.2.0",
      "_view_name": "LayoutView",
      "align_content": null,
      "align_items": null,
      "align_self": null,
      "border": null,
      "bottom": null,
      "display": null,
      "flex": null,
      "flex_flow": null,
      "grid_area": null,
      "grid_auto_columns": null,
      "grid_auto_flow": null,
      "grid_auto_rows": null,
      "grid_column": null,
      "grid_gap": null,
      "grid_row": null,
      "grid_template_areas": null,
      "grid_template_columns": null,
      "grid_template_rows": null,
      "height": null,
      "justify_content": null,
      "justify_items": null,
      "left": null,
      "margin": null,
      "max_height": null,
      "max_width": null,
      "min_height": null,
      "min_width": null,
      "object_fit": null,
      "object_position": null,
      "order": null,
      "overflow": null,
      "overflow_x": null,
      "overflow_y": null,
      "padding": null,
      "right": null,
      "top": null,
      "visibility": null,
      "width": null
     }
    },
    "a7281ec6c038471bb6461f796116ae68": {
     "model_module": "@jupyter-widgets/base",
     "model_module_version": "1.2.0",
     "model_name": "LayoutModel",
     "state": {
      "_model_module": "@jupyter-widgets/base",
      "_model_module_version": "1.2.0",
      "_model_name": "LayoutModel",
      "_view_count": null,
      "_view_module": "@jupyter-widgets/base",
      "_view_module_version": "1.2.0",
      "_view_name": "LayoutView",
      "align_content": null,
      "align_items": null,
      "align_self": null,
      "border": null,
      "bottom": null,
      "display": null,
      "flex": null,
      "flex_flow": null,
      "grid_area": null,
      "grid_auto_columns": null,
      "grid_auto_flow": null,
      "grid_auto_rows": null,
      "grid_column": null,
      "grid_gap": null,
      "grid_row": null,
      "grid_template_areas": null,
      "grid_template_columns": null,
      "grid_template_rows": null,
      "height": null,
      "justify_content": null,
      "justify_items": null,
      "left": null,
      "margin": null,
      "max_height": null,
      "max_width": null,
      "min_height": null,
      "min_width": null,
      "object_fit": null,
      "object_position": null,
      "order": null,
      "overflow": null,
      "overflow_x": null,
      "overflow_y": null,
      "padding": null,
      "right": null,
      "top": null,
      "visibility": null,
      "width": null
     }
    },
    "a9a252107ce74b07b2f04017ed3c1699": {
     "model_module": "@jupyter-widgets/controls",
     "model_module_version": "1.5.0",
     "model_name": "HTMLModel",
     "state": {
      "_dom_classes": [],
      "_model_module": "@jupyter-widgets/controls",
      "_model_module_version": "1.5.0",
      "_model_name": "HTMLModel",
      "_view_count": null,
      "_view_module": "@jupyter-widgets/controls",
      "_view_module_version": "1.5.0",
      "_view_name": "HTMLView",
      "description": "",
      "description_tooltip": null,
      "layout": "IPY_MODEL_b7e061a09329449cbbf595aad19ad733",
      "placeholder": "​",
      "style": "IPY_MODEL_5d006072f0664dcdb1e4fd25b647ffdc",
      "value": "model-00001-of-00002.safetensors: 100%"
     }
    },
    "aef3a466f9ea4eca8b807e0de31c6b46": {
     "model_module": "@jupyter-widgets/controls",
     "model_module_version": "1.5.0",
     "model_name": "HBoxModel",
     "state": {
      "_dom_classes": [],
      "_model_module": "@jupyter-widgets/controls",
      "_model_module_version": "1.5.0",
      "_model_name": "HBoxModel",
      "_view_count": null,
      "_view_module": "@jupyter-widgets/controls",
      "_view_module_version": "1.5.0",
      "_view_name": "HBoxView",
      "box_style": "",
      "children": [
       "IPY_MODEL_32d65e8ed59d418baf217e6fb50a26c1",
       "IPY_MODEL_373339f98b26439cb1b234263d5a9cc2",
       "IPY_MODEL_b5a4633fe28845c3bf1c93875222bfea"
      ],
      "layout": "IPY_MODEL_8e880ecb3ed04bb18912f1540f5bcb24"
     }
    },
    "b011545abea9461387e4bb705eb592b6": {
     "model_module": "@jupyter-widgets/base",
     "model_module_version": "1.2.0",
     "model_name": "LayoutModel",
     "state": {
      "_model_module": "@jupyter-widgets/base",
      "_model_module_version": "1.2.0",
      "_model_name": "LayoutModel",
      "_view_count": null,
      "_view_module": "@jupyter-widgets/base",
      "_view_module_version": "1.2.0",
      "_view_name": "LayoutView",
      "align_content": null,
      "align_items": null,
      "align_self": null,
      "border": null,
      "bottom": null,
      "display": null,
      "flex": null,
      "flex_flow": null,
      "grid_area": null,
      "grid_auto_columns": null,
      "grid_auto_flow": null,
      "grid_auto_rows": null,
      "grid_column": null,
      "grid_gap": null,
      "grid_row": null,
      "grid_template_areas": null,
      "grid_template_columns": null,
      "grid_template_rows": null,
      "height": null,
      "justify_content": null,
      "justify_items": null,
      "left": null,
      "margin": null,
      "max_height": null,
      "max_width": null,
      "min_height": null,
      "min_width": null,
      "object_fit": null,
      "object_position": null,
      "order": null,
      "overflow": null,
      "overflow_x": null,
      "overflow_y": null,
      "padding": null,
      "right": null,
      "top": null,
      "visibility": null,
      "width": null
     }
    },
    "b19670f9a3304e9f81ff552ae8284cc9": {
     "model_module": "@jupyter-widgets/controls",
     "model_module_version": "1.5.0",
     "model_name": "DescriptionStyleModel",
     "state": {
      "_model_module": "@jupyter-widgets/controls",
      "_model_module_version": "1.5.0",
      "_model_name": "DescriptionStyleModel",
      "_view_count": null,
      "_view_module": "@jupyter-widgets/base",
      "_view_module_version": "1.2.0",
      "_view_name": "StyleView",
      "description_width": ""
     }
    },
    "b1a058598ba9470590d3c9eb9fe53ea5": {
     "model_module": "@jupyter-widgets/base",
     "model_module_version": "1.2.0",
     "model_name": "LayoutModel",
     "state": {
      "_model_module": "@jupyter-widgets/base",
      "_model_module_version": "1.2.0",
      "_model_name": "LayoutModel",
      "_view_count": null,
      "_view_module": "@jupyter-widgets/base",
      "_view_module_version": "1.2.0",
      "_view_name": "LayoutView",
      "align_content": null,
      "align_items": null,
      "align_self": null,
      "border": null,
      "bottom": null,
      "display": null,
      "flex": null,
      "flex_flow": null,
      "grid_area": null,
      "grid_auto_columns": null,
      "grid_auto_flow": null,
      "grid_auto_rows": null,
      "grid_column": null,
      "grid_gap": null,
      "grid_row": null,
      "grid_template_areas": null,
      "grid_template_columns": null,
      "grid_template_rows": null,
      "height": null,
      "justify_content": null,
      "justify_items": null,
      "left": null,
      "margin": null,
      "max_height": null,
      "max_width": null,
      "min_height": null,
      "min_width": null,
      "object_fit": null,
      "object_position": null,
      "order": null,
      "overflow": null,
      "overflow_x": null,
      "overflow_y": null,
      "padding": null,
      "right": null,
      "top": null,
      "visibility": null,
      "width": null
     }
    },
    "b2f49e44d0d3448da146707e50be387b": {
     "model_module": "@jupyter-widgets/controls",
     "model_module_version": "1.5.0",
     "model_name": "DescriptionStyleModel",
     "state": {
      "_model_module": "@jupyter-widgets/controls",
      "_model_module_version": "1.5.0",
      "_model_name": "DescriptionStyleModel",
      "_view_count": null,
      "_view_module": "@jupyter-widgets/base",
      "_view_module_version": "1.2.0",
      "_view_name": "StyleView",
      "description_width": ""
     }
    },
    "b2fe43cdd2d14f34be9302fef70b365d": {
     "model_module": "@jupyter-widgets/controls",
     "model_module_version": "1.5.0",
     "model_name": "HTMLModel",
     "state": {
      "_dom_classes": [],
      "_model_module": "@jupyter-widgets/controls",
      "_model_module_version": "1.5.0",
      "_model_name": "HTMLModel",
      "_view_count": null,
      "_view_module": "@jupyter-widgets/controls",
      "_view_module_version": "1.5.0",
      "_view_name": "HTMLView",
      "description": "",
      "description_tooltip": null,
      "layout": "IPY_MODEL_b554c238c93842299fee030e08cda479",
      "placeholder": "​",
      "style": "IPY_MODEL_b19670f9a3304e9f81ff552ae8284cc9",
      "value": "model-00002-of-00002.safetensors: 100%"
     }
    },
    "b4ec396e814049d688b8491521d451b1": {
     "model_module": "@jupyter-widgets/controls",
     "model_module_version": "1.5.0",
     "model_name": "HTMLModel",
     "state": {
      "_dom_classes": [],
      "_model_module": "@jupyter-widgets/controls",
      "_model_module_version": "1.5.0",
      "_model_name": "HTMLModel",
      "_view_count": null,
      "_view_module": "@jupyter-widgets/controls",
      "_view_module_version": "1.5.0",
      "_view_name": "HTMLView",
      "description": "",
      "description_tooltip": null,
      "layout": "IPY_MODEL_eb9f2e775e6b469b8157e2c73d44b510",
      "placeholder": "​",
      "style": "IPY_MODEL_f95c74e545bb4809866b306e9d256272",
      "value": " 414/414 [00:00&lt;00:00, 39.5kB/s]"
     }
    },
    "b554c238c93842299fee030e08cda479": {
     "model_module": "@jupyter-widgets/base",
     "model_module_version": "1.2.0",
     "model_name": "LayoutModel",
     "state": {
      "_model_module": "@jupyter-widgets/base",
      "_model_module_version": "1.2.0",
      "_model_name": "LayoutModel",
      "_view_count": null,
      "_view_module": "@jupyter-widgets/base",
      "_view_module_version": "1.2.0",
      "_view_name": "LayoutView",
      "align_content": null,
      "align_items": null,
      "align_self": null,
      "border": null,
      "bottom": null,
      "display": null,
      "flex": null,
      "flex_flow": null,
      "grid_area": null,
      "grid_auto_columns": null,
      "grid_auto_flow": null,
      "grid_auto_rows": null,
      "grid_column": null,
      "grid_gap": null,
      "grid_row": null,
      "grid_template_areas": null,
      "grid_template_columns": null,
      "grid_template_rows": null,
      "height": null,
      "justify_content": null,
      "justify_items": null,
      "left": null,
      "margin": null,
      "max_height": null,
      "max_width": null,
      "min_height": null,
      "min_width": null,
      "object_fit": null,
      "object_position": null,
      "order": null,
      "overflow": null,
      "overflow_x": null,
      "overflow_y": null,
      "padding": null,
      "right": null,
      "top": null,
      "visibility": null,
      "width": null
     }
    },
    "b57021d29f5f44dd8a9cddc9b82d5922": {
     "model_module": "@jupyter-widgets/base",
     "model_module_version": "1.2.0",
     "model_name": "LayoutModel",
     "state": {
      "_model_module": "@jupyter-widgets/base",
      "_model_module_version": "1.2.0",
      "_model_name": "LayoutModel",
      "_view_count": null,
      "_view_module": "@jupyter-widgets/base",
      "_view_module_version": "1.2.0",
      "_view_name": "LayoutView",
      "align_content": null,
      "align_items": null,
      "align_self": null,
      "border": null,
      "bottom": null,
      "display": null,
      "flex": null,
      "flex_flow": null,
      "grid_area": null,
      "grid_auto_columns": null,
      "grid_auto_flow": null,
      "grid_auto_rows": null,
      "grid_column": null,
      "grid_gap": null,
      "grid_row": null,
      "grid_template_areas": null,
      "grid_template_columns": null,
      "grid_template_rows": null,
      "height": null,
      "justify_content": null,
      "justify_items": null,
      "left": null,
      "margin": null,
      "max_height": null,
      "max_width": null,
      "min_height": null,
      "min_width": null,
      "object_fit": null,
      "object_position": null,
      "order": null,
      "overflow": null,
      "overflow_x": null,
      "overflow_y": null,
      "padding": null,
      "right": null,
      "top": null,
      "visibility": null,
      "width": null
     }
    },
    "b5a4633fe28845c3bf1c93875222bfea": {
     "model_module": "@jupyter-widgets/controls",
     "model_module_version": "1.5.0",
     "model_name": "HTMLModel",
     "state": {
      "_dom_classes": [],
      "_model_module": "@jupyter-widgets/controls",
      "_model_module_version": "1.5.0",
      "_model_name": "HTMLModel",
      "_view_count": null,
      "_view_module": "@jupyter-widgets/controls",
      "_view_module_version": "1.5.0",
      "_view_name": "HTMLView",
      "description": "",
      "description_tooltip": null,
      "layout": "IPY_MODEL_9d96e272c3314ccabe3eb25b502aa0ac",
      "placeholder": "​",
      "style": "IPY_MODEL_9bf6d25101434c1893448827bd5eaa64",
      "value": " 2/2 [01:23&lt;00:00, 40.21s/it]"
     }
    },
    "b6488392ecfd4cc3a3186014ebe9fb33": {
     "model_module": "@jupyter-widgets/controls",
     "model_module_version": "1.5.0",
     "model_name": "HBoxModel",
     "state": {
      "_dom_classes": [],
      "_model_module": "@jupyter-widgets/controls",
      "_model_module_version": "1.5.0",
      "_model_name": "HBoxModel",
      "_view_count": null,
      "_view_module": "@jupyter-widgets/controls",
      "_view_module_version": "1.5.0",
      "_view_name": "HBoxView",
      "box_style": "",
      "children": [
       "IPY_MODEL_3749dccc6f6546f5b6e7b4486350370f",
       "IPY_MODEL_bfaa1923cfb24a0187d368305ce99b9d",
       "IPY_MODEL_1286c08f959b4b81a307fdf65c893e74"
      ],
      "layout": "IPY_MODEL_53ed1fe41b3b47d48d10e562ba92d42e"
     }
    },
    "b7e061a09329449cbbf595aad19ad733": {
     "model_module": "@jupyter-widgets/base",
     "model_module_version": "1.2.0",
     "model_name": "LayoutModel",
     "state": {
      "_model_module": "@jupyter-widgets/base",
      "_model_module_version": "1.2.0",
      "_model_name": "LayoutModel",
      "_view_count": null,
      "_view_module": "@jupyter-widgets/base",
      "_view_module_version": "1.2.0",
      "_view_name": "LayoutView",
      "align_content": null,
      "align_items": null,
      "align_self": null,
      "border": null,
      "bottom": null,
      "display": null,
      "flex": null,
      "flex_flow": null,
      "grid_area": null,
      "grid_auto_columns": null,
      "grid_auto_flow": null,
      "grid_auto_rows": null,
      "grid_column": null,
      "grid_gap": null,
      "grid_row": null,
      "grid_template_areas": null,
      "grid_template_columns": null,
      "grid_template_rows": null,
      "height": null,
      "justify_content": null,
      "justify_items": null,
      "left": null,
      "margin": null,
      "max_height": null,
      "max_width": null,
      "min_height": null,
      "min_width": null,
      "object_fit": null,
      "object_position": null,
      "order": null,
      "overflow": null,
      "overflow_x": null,
      "overflow_y": null,
      "padding": null,
      "right": null,
      "top": null,
      "visibility": null,
      "width": null
     }
    },
    "b8849bb0e55a404dbd67676d190c1593": {
     "model_module": "@jupyter-widgets/controls",
     "model_module_version": "1.5.0",
     "model_name": "HTMLModel",
     "state": {
      "_dom_classes": [],
      "_model_module": "@jupyter-widgets/controls",
      "_model_module_version": "1.5.0",
      "_model_name": "HTMLModel",
      "_view_count": null,
      "_view_module": "@jupyter-widgets/controls",
      "_view_module_version": "1.5.0",
      "_view_name": "HTMLView",
      "description": "",
      "description_tooltip": null,
      "layout": "IPY_MODEL_6475888e375c47e497f60af135757e45",
      "placeholder": "​",
      "style": "IPY_MODEL_3a2b1486268f4a75898f56018e2109b2",
      "value": "tokenizer_config.json: 100%"
     }
    },
    "ba766944a87f4fa8a6e49998f755205f": {
     "model_module": "@jupyter-widgets/controls",
     "model_module_version": "1.5.0",
     "model_name": "DescriptionStyleModel",
     "state": {
      "_model_module": "@jupyter-widgets/controls",
      "_model_module_version": "1.5.0",
      "_model_name": "DescriptionStyleModel",
      "_view_count": null,
      "_view_module": "@jupyter-widgets/base",
      "_view_module_version": "1.2.0",
      "_view_name": "StyleView",
      "description_width": ""
     }
    },
    "bbbd718cc0b04b96adef602cbeda4a03": {
     "model_module": "@jupyter-widgets/base",
     "model_module_version": "1.2.0",
     "model_name": "LayoutModel",
     "state": {
      "_model_module": "@jupyter-widgets/base",
      "_model_module_version": "1.2.0",
      "_model_name": "LayoutModel",
      "_view_count": null,
      "_view_module": "@jupyter-widgets/base",
      "_view_module_version": "1.2.0",
      "_view_name": "LayoutView",
      "align_content": null,
      "align_items": null,
      "align_self": null,
      "border": null,
      "bottom": null,
      "display": null,
      "flex": null,
      "flex_flow": null,
      "grid_area": null,
      "grid_auto_columns": null,
      "grid_auto_flow": null,
      "grid_auto_rows": null,
      "grid_column": null,
      "grid_gap": null,
      "grid_row": null,
      "grid_template_areas": null,
      "grid_template_columns": null,
      "grid_template_rows": null,
      "height": null,
      "justify_content": null,
      "justify_items": null,
      "left": null,
      "margin": null,
      "max_height": null,
      "max_width": null,
      "min_height": null,
      "min_width": null,
      "object_fit": null,
      "object_position": null,
      "order": null,
      "overflow": null,
      "overflow_x": null,
      "overflow_y": null,
      "padding": null,
      "right": null,
      "top": null,
      "visibility": null,
      "width": null
     }
    },
    "bcb0561cb16c40d184b55e72dfe522e4": {
     "model_module": "@jupyter-widgets/controls",
     "model_module_version": "1.5.0",
     "model_name": "HTMLModel",
     "state": {
      "_dom_classes": [],
      "_model_module": "@jupyter-widgets/controls",
      "_model_module_version": "1.5.0",
      "_model_name": "HTMLModel",
      "_view_count": null,
      "_view_module": "@jupyter-widgets/controls",
      "_view_module_version": "1.5.0",
      "_view_name": "HTMLView",
      "description": "",
      "description_tooltip": null,
      "layout": "IPY_MODEL_f4e9acdc4e45483fb256a71fb39fb78b",
      "placeholder": "​",
      "style": "IPY_MODEL_f2e91321309b44dfa0a8905970772c68",
      "value": " 493k/493k [00:00&lt;00:00, 39.1MB/s]"
     }
    },
    "bfaa1923cfb24a0187d368305ce99b9d": {
     "model_module": "@jupyter-widgets/controls",
     "model_module_version": "1.5.0",
     "model_name": "FloatProgressModel",
     "state": {
      "_dom_classes": [],
      "_model_module": "@jupyter-widgets/controls",
      "_model_module_version": "1.5.0",
      "_model_name": "FloatProgressModel",
      "_view_count": null,
      "_view_module": "@jupyter-widgets/controls",
      "_view_module_version": "1.5.0",
      "_view_name": "ProgressView",
      "bar_style": "success",
      "description": "",
      "description_tooltip": null,
      "layout": "IPY_MODEL_2b4dd813cbc3496a93bca8f780c092d4",
      "max": 2,
      "min": 0,
      "orientation": "horizontal",
      "style": "IPY_MODEL_cfc9917b0e314dddba07595e1fcb0b03",
      "value": 2
     }
    },
    "c0330592decb4e6f86069dd6519b7e12": {
     "model_module": "@jupyter-widgets/controls",
     "model_module_version": "1.5.0",
     "model_name": "HTMLModel",
     "state": {
      "_dom_classes": [],
      "_model_module": "@jupyter-widgets/controls",
      "_model_module_version": "1.5.0",
      "_model_name": "HTMLModel",
      "_view_count": null,
      "_view_module": "@jupyter-widgets/controls",
      "_view_module_version": "1.5.0",
      "_view_name": "HTMLView",
      "description": "",
      "description_tooltip": null,
      "layout": "IPY_MODEL_1b2c6f4fbd54494ca5c6412872bec9b1",
      "placeholder": "​",
      "style": "IPY_MODEL_e0d997c8519546ca93fe930148280556",
      "value": "config.json: 100%"
     }
    },
    "c106fd0a54ce43de955c163211f883e4": {
     "model_module": "@jupyter-widgets/controls",
     "model_module_version": "1.5.0",
     "model_name": "HTMLModel",
     "state": {
      "_dom_classes": [],
      "_model_module": "@jupyter-widgets/controls",
      "_model_module_version": "1.5.0",
      "_model_name": "HTMLModel",
      "_view_count": null,
      "_view_module": "@jupyter-widgets/controls",
      "_view_module_version": "1.5.0",
      "_view_name": "HTMLView",
      "description": "",
      "description_tooltip": null,
      "layout": "IPY_MODEL_13aa3bed42924caba2020d015d2e7212",
      "placeholder": "​",
      "style": "IPY_MODEL_6d4e2131009047bf9465743a06d19786",
      "value": " 25.1k/25.1k [00:00&lt;00:00, 1.85MB/s]"
     }
    },
    "c1b776ff069c4750b69cd7c33b99c835": {
     "model_module": "@jupyter-widgets/controls",
     "model_module_version": "1.5.0",
     "model_name": "HTMLModel",
     "state": {
      "_dom_classes": [],
      "_model_module": "@jupyter-widgets/controls",
      "_model_module_version": "1.5.0",
      "_model_name": "HTMLModel",
      "_view_count": null,
      "_view_module": "@jupyter-widgets/controls",
      "_view_module_version": "1.5.0",
      "_view_name": "HTMLView",
      "description": "",
      "description_tooltip": null,
      "layout": "IPY_MODEL_2e10db2a371241b8af19b4b458e8d695",
      "placeholder": "​",
      "style": "IPY_MODEL_32f98eec51764323ba6bdac9a6adbf2e",
      "value": "generation_config.json: 100%"
     }
    },
    "c1e261e523ff4df1b4ee29dcc370edf3": {
     "model_module": "@jupyter-widgets/controls",
     "model_module_version": "1.5.0",
     "model_name": "HTMLModel",
     "state": {
      "_dom_classes": [],
      "_model_module": "@jupyter-widgets/controls",
      "_model_module_version": "1.5.0",
      "_model_name": "HTMLModel",
      "_view_count": null,
      "_view_module": "@jupyter-widgets/controls",
      "_view_module_version": "1.5.0",
      "_view_name": "HTMLView",
      "description": "",
      "description_tooltip": null,
      "layout": "IPY_MODEL_89724c11c1eb459789374c2cf31daeab",
      "placeholder": "​",
      "style": "IPY_MODEL_64ea101e0ee8478691d7043f77d7c946",
      "value": "model.safetensors.index.json: 100%"
     }
    },
    "cc18a68e9c6043a896389c159ba82108": {
     "model_module": "@jupyter-widgets/base",
     "model_module_version": "1.2.0",
     "model_name": "LayoutModel",
     "state": {
      "_model_module": "@jupyter-widgets/base",
      "_model_module_version": "1.2.0",
      "_model_name": "LayoutModel",
      "_view_count": null,
      "_view_module": "@jupyter-widgets/base",
      "_view_module_version": "1.2.0",
      "_view_name": "LayoutView",
      "align_content": null,
      "align_items": null,
      "align_self": null,
      "border": null,
      "bottom": null,
      "display": null,
      "flex": null,
      "flex_flow": null,
      "grid_area": null,
      "grid_auto_columns": null,
      "grid_auto_flow": null,
      "grid_auto_rows": null,
      "grid_column": null,
      "grid_gap": null,
      "grid_row": null,
      "grid_template_areas": null,
      "grid_template_columns": null,
      "grid_template_rows": null,
      "height": null,
      "justify_content": null,
      "justify_items": null,
      "left": null,
      "margin": null,
      "max_height": null,
      "max_width": null,
      "min_height": null,
      "min_width": null,
      "object_fit": null,
      "object_position": null,
      "order": null,
      "overflow": null,
      "overflow_x": null,
      "overflow_y": null,
      "padding": null,
      "right": null,
      "top": null,
      "visibility": null,
      "width": null
     }
    },
    "cc237b1ed3b1428b8d4d0bb888331d97": {
     "model_module": "@jupyter-widgets/base",
     "model_module_version": "1.2.0",
     "model_name": "LayoutModel",
     "state": {
      "_model_module": "@jupyter-widgets/base",
      "_model_module_version": "1.2.0",
      "_model_name": "LayoutModel",
      "_view_count": null,
      "_view_module": "@jupyter-widgets/base",
      "_view_module_version": "1.2.0",
      "_view_name": "LayoutView",
      "align_content": null,
      "align_items": null,
      "align_self": null,
      "border": null,
      "bottom": null,
      "display": null,
      "flex": null,
      "flex_flow": null,
      "grid_area": null,
      "grid_auto_columns": null,
      "grid_auto_flow": null,
      "grid_auto_rows": null,
      "grid_column": null,
      "grid_gap": null,
      "grid_row": null,
      "grid_template_areas": null,
      "grid_template_columns": null,
      "grid_template_rows": null,
      "height": null,
      "justify_content": null,
      "justify_items": null,
      "left": null,
      "margin": null,
      "max_height": null,
      "max_width": null,
      "min_height": null,
      "min_width": null,
      "object_fit": null,
      "object_position": null,
      "order": null,
      "overflow": null,
      "overflow_x": null,
      "overflow_y": null,
      "padding": null,
      "right": null,
      "top": null,
      "visibility": null,
      "width": null
     }
    },
    "cfb01d7672b540ba84200a2eac5fb794": {
     "model_module": "@jupyter-widgets/base",
     "model_module_version": "1.2.0",
     "model_name": "LayoutModel",
     "state": {
      "_model_module": "@jupyter-widgets/base",
      "_model_module_version": "1.2.0",
      "_model_name": "LayoutModel",
      "_view_count": null,
      "_view_module": "@jupyter-widgets/base",
      "_view_module_version": "1.2.0",
      "_view_name": "LayoutView",
      "align_content": null,
      "align_items": null,
      "align_self": null,
      "border": null,
      "bottom": null,
      "display": null,
      "flex": null,
      "flex_flow": null,
      "grid_area": null,
      "grid_auto_columns": null,
      "grid_auto_flow": null,
      "grid_auto_rows": null,
      "grid_column": null,
      "grid_gap": null,
      "grid_row": null,
      "grid_template_areas": null,
      "grid_template_columns": null,
      "grid_template_rows": null,
      "height": null,
      "justify_content": null,
      "justify_items": null,
      "left": null,
      "margin": null,
      "max_height": null,
      "max_width": null,
      "min_height": null,
      "min_width": null,
      "object_fit": null,
      "object_position": null,
      "order": null,
      "overflow": null,
      "overflow_x": null,
      "overflow_y": null,
      "padding": null,
      "right": null,
      "top": null,
      "visibility": null,
      "width": null
     }
    },
    "cfc9917b0e314dddba07595e1fcb0b03": {
     "model_module": "@jupyter-widgets/controls",
     "model_module_version": "1.5.0",
     "model_name": "ProgressStyleModel",
     "state": {
      "_model_module": "@jupyter-widgets/controls",
      "_model_module_version": "1.5.0",
      "_model_name": "ProgressStyleModel",
      "_view_count": null,
      "_view_module": "@jupyter-widgets/base",
      "_view_module_version": "1.2.0",
      "_view_name": "StyleView",
      "bar_color": null,
      "description_width": ""
     }
    },
    "d10d8585e3864b6d9e6329a76be6940e": {
     "model_module": "@jupyter-widgets/base",
     "model_module_version": "1.2.0",
     "model_name": "LayoutModel",
     "state": {
      "_model_module": "@jupyter-widgets/base",
      "_model_module_version": "1.2.0",
      "_model_name": "LayoutModel",
      "_view_count": null,
      "_view_module": "@jupyter-widgets/base",
      "_view_module_version": "1.2.0",
      "_view_name": "LayoutView",
      "align_content": null,
      "align_items": null,
      "align_self": null,
      "border": null,
      "bottom": null,
      "display": null,
      "flex": null,
      "flex_flow": null,
      "grid_area": null,
      "grid_auto_columns": null,
      "grid_auto_flow": null,
      "grid_auto_rows": null,
      "grid_column": null,
      "grid_gap": null,
      "grid_row": null,
      "grid_template_areas": null,
      "grid_template_columns": null,
      "grid_template_rows": null,
      "height": null,
      "justify_content": null,
      "justify_items": null,
      "left": null,
      "margin": null,
      "max_height": null,
      "max_width": null,
      "min_height": null,
      "min_width": null,
      "object_fit": null,
      "object_position": null,
      "order": null,
      "overflow": null,
      "overflow_x": null,
      "overflow_y": null,
      "padding": null,
      "right": null,
      "top": null,
      "visibility": null,
      "width": null
     }
    },
    "d4822d0e6ef54c9fbd1b7fd7dd5487eb": {
     "model_module": "@jupyter-widgets/controls",
     "model_module_version": "1.5.0",
     "model_name": "DescriptionStyleModel",
     "state": {
      "_model_module": "@jupyter-widgets/controls",
      "_model_module_version": "1.5.0",
      "_model_name": "DescriptionStyleModel",
      "_view_count": null,
      "_view_module": "@jupyter-widgets/base",
      "_view_module_version": "1.2.0",
      "_view_name": "StyleView",
      "description_width": ""
     }
    },
    "dabaad37ec154fd79bc60388eee56b33": {
     "model_module": "@jupyter-widgets/base",
     "model_module_version": "1.2.0",
     "model_name": "LayoutModel",
     "state": {
      "_model_module": "@jupyter-widgets/base",
      "_model_module_version": "1.2.0",
      "_model_name": "LayoutModel",
      "_view_count": null,
      "_view_module": "@jupyter-widgets/base",
      "_view_module_version": "1.2.0",
      "_view_name": "LayoutView",
      "align_content": null,
      "align_items": null,
      "align_self": null,
      "border": null,
      "bottom": null,
      "display": null,
      "flex": null,
      "flex_flow": null,
      "grid_area": null,
      "grid_auto_columns": null,
      "grid_auto_flow": null,
      "grid_auto_rows": null,
      "grid_column": null,
      "grid_gap": null,
      "grid_row": null,
      "grid_template_areas": null,
      "grid_template_columns": null,
      "grid_template_rows": null,
      "height": null,
      "justify_content": null,
      "justify_items": null,
      "left": null,
      "margin": null,
      "max_height": null,
      "max_width": null,
      "min_height": null,
      "min_width": null,
      "object_fit": null,
      "object_position": null,
      "order": null,
      "overflow": null,
      "overflow_x": null,
      "overflow_y": null,
      "padding": null,
      "right": null,
      "top": null,
      "visibility": null,
      "width": null
     }
    },
    "decd22915fa2445c909526254c9fb26e": {
     "model_module": "@jupyter-widgets/base",
     "model_module_version": "1.2.0",
     "model_name": "LayoutModel",
     "state": {
      "_model_module": "@jupyter-widgets/base",
      "_model_module_version": "1.2.0",
      "_model_name": "LayoutModel",
      "_view_count": null,
      "_view_module": "@jupyter-widgets/base",
      "_view_module_version": "1.2.0",
      "_view_name": "LayoutView",
      "align_content": null,
      "align_items": null,
      "align_self": null,
      "border": null,
      "bottom": null,
      "display": null,
      "flex": null,
      "flex_flow": null,
      "grid_area": null,
      "grid_auto_columns": null,
      "grid_auto_flow": null,
      "grid_auto_rows": null,
      "grid_column": null,
      "grid_gap": null,
      "grid_row": null,
      "grid_template_areas": null,
      "grid_template_columns": null,
      "grid_template_rows": null,
      "height": null,
      "justify_content": null,
      "justify_items": null,
      "left": null,
      "margin": null,
      "max_height": null,
      "max_width": null,
      "min_height": null,
      "min_width": null,
      "object_fit": null,
      "object_position": null,
      "order": null,
      "overflow": null,
      "overflow_x": null,
      "overflow_y": null,
      "padding": null,
      "right": null,
      "top": null,
      "visibility": null,
      "width": null
     }
    },
    "df24452e1e0645e48f1262011fd098e0": {
     "model_module": "@jupyter-widgets/controls",
     "model_module_version": "1.5.0",
     "model_name": "HTMLModel",
     "state": {
      "_dom_classes": [],
      "_model_module": "@jupyter-widgets/controls",
      "_model_module_version": "1.5.0",
      "_model_name": "HTMLModel",
      "_view_count": null,
      "_view_module": "@jupyter-widgets/controls",
      "_view_module_version": "1.5.0",
      "_view_name": "HTMLView",
      "description": "",
      "description_tooltip": null,
      "layout": "IPY_MODEL_b1a058598ba9470590d3c9eb9fe53ea5",
      "placeholder": "​",
      "style": "IPY_MODEL_90dba0c3003a4772b2d1d094c70b31a9",
      "value": "tokenizer.model: 100%"
     }
    },
    "e0d997c8519546ca93fe930148280556": {
     "model_module": "@jupyter-widgets/controls",
     "model_module_version": "1.5.0",
     "model_name": "DescriptionStyleModel",
     "state": {
      "_model_module": "@jupyter-widgets/controls",
      "_model_module_version": "1.5.0",
      "_model_name": "DescriptionStyleModel",
      "_view_count": null,
      "_view_module": "@jupyter-widgets/base",
      "_view_module_version": "1.2.0",
      "_view_name": "StyleView",
      "description_width": ""
     }
    },
    "eb9f2e775e6b469b8157e2c73d44b510": {
     "model_module": "@jupyter-widgets/base",
     "model_module_version": "1.2.0",
     "model_name": "LayoutModel",
     "state": {
      "_model_module": "@jupyter-widgets/base",
      "_model_module_version": "1.2.0",
      "_model_name": "LayoutModel",
      "_view_count": null,
      "_view_module": "@jupyter-widgets/base",
      "_view_module_version": "1.2.0",
      "_view_name": "LayoutView",
      "align_content": null,
      "align_items": null,
      "align_self": null,
      "border": null,
      "bottom": null,
      "display": null,
      "flex": null,
      "flex_flow": null,
      "grid_area": null,
      "grid_auto_columns": null,
      "grid_auto_flow": null,
      "grid_auto_rows": null,
      "grid_column": null,
      "grid_gap": null,
      "grid_row": null,
      "grid_template_areas": null,
      "grid_template_columns": null,
      "grid_template_rows": null,
      "height": null,
      "justify_content": null,
      "justify_items": null,
      "left": null,
      "margin": null,
      "max_height": null,
      "max_width": null,
      "min_height": null,
      "min_width": null,
      "object_fit": null,
      "object_position": null,
      "order": null,
      "overflow": null,
      "overflow_x": null,
      "overflow_y": null,
      "padding": null,
      "right": null,
      "top": null,
      "visibility": null,
      "width": null
     }
    },
    "ec2bbf177e2d464c881b394c6fc34440": {
     "model_module": "@jupyter-widgets/base",
     "model_module_version": "1.2.0",
     "model_name": "LayoutModel",
     "state": {
      "_model_module": "@jupyter-widgets/base",
      "_model_module_version": "1.2.0",
      "_model_name": "LayoutModel",
      "_view_count": null,
      "_view_module": "@jupyter-widgets/base",
      "_view_module_version": "1.2.0",
      "_view_name": "LayoutView",
      "align_content": null,
      "align_items": null,
      "align_self": null,
      "border": null,
      "bottom": null,
      "display": null,
      "flex": null,
      "flex_flow": null,
      "grid_area": null,
      "grid_auto_columns": null,
      "grid_auto_flow": null,
      "grid_auto_rows": null,
      "grid_column": null,
      "grid_gap": null,
      "grid_row": null,
      "grid_template_areas": null,
      "grid_template_columns": null,
      "grid_template_rows": null,
      "height": null,
      "justify_content": null,
      "justify_items": null,
      "left": null,
      "margin": null,
      "max_height": null,
      "max_width": null,
      "min_height": null,
      "min_width": null,
      "object_fit": null,
      "object_position": null,
      "order": null,
      "overflow": null,
      "overflow_x": null,
      "overflow_y": null,
      "padding": null,
      "right": null,
      "top": null,
      "visibility": null,
      "width": null
     }
    },
    "ef33309695bb4ff59956653b5affd3f3": {
     "model_module": "@jupyter-widgets/controls",
     "model_module_version": "1.5.0",
     "model_name": "FloatProgressModel",
     "state": {
      "_dom_classes": [],
      "_model_module": "@jupyter-widgets/controls",
      "_model_module_version": "1.5.0",
      "_model_name": "FloatProgressModel",
      "_view_count": null,
      "_view_module": "@jupyter-widgets/controls",
      "_view_module_version": "1.5.0",
      "_view_name": "ProgressView",
      "bar_style": "success",
      "description": "",
      "description_tooltip": null,
      "layout": "IPY_MODEL_b011545abea9461387e4bb705eb592b6",
      "max": 25125,
      "min": 0,
      "orientation": "horizontal",
      "style": "IPY_MODEL_788fa0425bd047c6ab9d98178c31ae32",
      "value": 25125
     }
    },
    "eff4370bd66a4d6d995278995fa23605": {
     "model_module": "@jupyter-widgets/controls",
     "model_module_version": "1.5.0",
     "model_name": "HTMLModel",
     "state": {
      "_dom_classes": [],
      "_model_module": "@jupyter-widgets/controls",
      "_model_module_version": "1.5.0",
      "_model_name": "HTMLModel",
      "_view_count": null,
      "_view_module": "@jupyter-widgets/controls",
      "_view_module_version": "1.5.0",
      "_view_name": "HTMLView",
      "description": "",
      "description_tooltip": null,
      "layout": "IPY_MODEL_2a9ccb75e8c64f6a901c96d2a09ebc88",
      "placeholder": "​",
      "style": "IPY_MODEL_4ae41471f1d0485c946058d2940b9955",
      "value": " 116/116 [00:00&lt;00:00, 9.25kB/s]"
     }
    },
    "f1a8e40773724fdb8feee7cb190f2a81": {
     "model_module": "@jupyter-widgets/controls",
     "model_module_version": "1.5.0",
     "model_name": "DescriptionStyleModel",
     "state": {
      "_model_module": "@jupyter-widgets/controls",
      "_model_module_version": "1.5.0",
      "_model_name": "DescriptionStyleModel",
      "_view_count": null,
      "_view_module": "@jupyter-widgets/base",
      "_view_module_version": "1.2.0",
      "_view_name": "StyleView",
      "description_width": ""
     }
    },
    "f2e91321309b44dfa0a8905970772c68": {
     "model_module": "@jupyter-widgets/controls",
     "model_module_version": "1.5.0",
     "model_name": "DescriptionStyleModel",
     "state": {
      "_model_module": "@jupyter-widgets/controls",
      "_model_module_version": "1.5.0",
      "_model_name": "DescriptionStyleModel",
      "_view_count": null,
      "_view_module": "@jupyter-widgets/base",
      "_view_module_version": "1.2.0",
      "_view_name": "StyleView",
      "description_width": ""
     }
    },
    "f4e9acdc4e45483fb256a71fb39fb78b": {
     "model_module": "@jupyter-widgets/base",
     "model_module_version": "1.2.0",
     "model_name": "LayoutModel",
     "state": {
      "_model_module": "@jupyter-widgets/base",
      "_model_module_version": "1.2.0",
      "_model_name": "LayoutModel",
      "_view_count": null,
      "_view_module": "@jupyter-widgets/base",
      "_view_module_version": "1.2.0",
      "_view_name": "LayoutView",
      "align_content": null,
      "align_items": null,
      "align_self": null,
      "border": null,
      "bottom": null,
      "display": null,
      "flex": null,
      "flex_flow": null,
      "grid_area": null,
      "grid_auto_columns": null,
      "grid_auto_flow": null,
      "grid_auto_rows": null,
      "grid_column": null,
      "grid_gap": null,
      "grid_row": null,
      "grid_template_areas": null,
      "grid_template_columns": null,
      "grid_template_rows": null,
      "height": null,
      "justify_content": null,
      "justify_items": null,
      "left": null,
      "margin": null,
      "max_height": null,
      "max_width": null,
      "min_height": null,
      "min_width": null,
      "object_fit": null,
      "object_position": null,
      "order": null,
      "overflow": null,
      "overflow_x": null,
      "overflow_y": null,
      "padding": null,
      "right": null,
      "top": null,
      "visibility": null,
      "width": null
     }
    },
    "f668b85222b04f19b7ba66a01cf39b6e": {
     "model_module": "@jupyter-widgets/controls",
     "model_module_version": "1.5.0",
     "model_name": "DescriptionStyleModel",
     "state": {
      "_model_module": "@jupyter-widgets/controls",
      "_model_module_version": "1.5.0",
      "_model_name": "DescriptionStyleModel",
      "_view_count": null,
      "_view_module": "@jupyter-widgets/base",
      "_view_module_version": "1.2.0",
      "_view_name": "StyleView",
      "description_width": ""
     }
    },
    "f7c11929510b480d85f3be326afb049c": {
     "model_module": "@jupyter-widgets/base",
     "model_module_version": "1.2.0",
     "model_name": "LayoutModel",
     "state": {
      "_model_module": "@jupyter-widgets/base",
      "_model_module_version": "1.2.0",
      "_model_name": "LayoutModel",
      "_view_count": null,
      "_view_module": "@jupyter-widgets/base",
      "_view_module_version": "1.2.0",
      "_view_name": "LayoutView",
      "align_content": null,
      "align_items": null,
      "align_self": null,
      "border": null,
      "bottom": null,
      "display": null,
      "flex": null,
      "flex_flow": null,
      "grid_area": null,
      "grid_auto_columns": null,
      "grid_auto_flow": null,
      "grid_auto_rows": null,
      "grid_column": null,
      "grid_gap": null,
      "grid_row": null,
      "grid_template_areas": null,
      "grid_template_columns": null,
      "grid_template_rows": null,
      "height": null,
      "justify_content": null,
      "justify_items": null,
      "left": null,
      "margin": null,
      "max_height": null,
      "max_width": null,
      "min_height": null,
      "min_width": null,
      "object_fit": null,
      "object_position": null,
      "order": null,
      "overflow": null,
      "overflow_x": null,
      "overflow_y": null,
      "padding": null,
      "right": null,
      "top": null,
      "visibility": null,
      "width": null
     }
    },
    "f95c74e545bb4809866b306e9d256272": {
     "model_module": "@jupyter-widgets/controls",
     "model_module_version": "1.5.0",
     "model_name": "DescriptionStyleModel",
     "state": {
      "_model_module": "@jupyter-widgets/controls",
      "_model_module_version": "1.5.0",
      "_model_name": "DescriptionStyleModel",
      "_view_count": null,
      "_view_module": "@jupyter-widgets/base",
      "_view_module_version": "1.2.0",
      "_view_name": "StyleView",
      "description_width": ""
     }
    },
    "fc7cf171f1684e3e9bd170d3937e44f5": {
     "model_module": "@jupyter-widgets/controls",
     "model_module_version": "1.5.0",
     "model_name": "FloatProgressModel",
     "state": {
      "_dom_classes": [],
      "_model_module": "@jupyter-widgets/controls",
      "_model_module_version": "1.5.0",
      "_model_name": "FloatProgressModel",
      "_view_count": null,
      "_view_module": "@jupyter-widgets/controls",
      "_view_module_version": "1.5.0",
      "_view_name": "ProgressView",
      "bar_style": "success",
      "description": "",
      "description_tooltip": null,
      "layout": "IPY_MODEL_468957607d174967b6cbc280b5b1ef4d",
      "max": 116,
      "min": 0,
      "orientation": "horizontal",
      "style": "IPY_MODEL_4965140f1e544abe9f5f2210b5e46f37",
      "value": 116
     }
    },
    "fda092637f474b94bbaa2cb508840e1e": {
     "model_module": "@jupyter-widgets/base",
     "model_module_version": "1.2.0",
     "model_name": "LayoutModel",
     "state": {
      "_model_module": "@jupyter-widgets/base",
      "_model_module_version": "1.2.0",
      "_model_name": "LayoutModel",
      "_view_count": null,
      "_view_module": "@jupyter-widgets/base",
      "_view_module_version": "1.2.0",
      "_view_name": "LayoutView",
      "align_content": null,
      "align_items": null,
      "align_self": null,
      "border": null,
      "bottom": null,
      "display": null,
      "flex": null,
      "flex_flow": null,
      "grid_area": null,
      "grid_auto_columns": null,
      "grid_auto_flow": null,
      "grid_auto_rows": null,
      "grid_column": null,
      "grid_gap": null,
      "grid_row": null,
      "grid_template_areas": null,
      "grid_template_columns": null,
      "grid_template_rows": null,
      "height": null,
      "justify_content": null,
      "justify_items": null,
      "left": null,
      "margin": null,
      "max_height": null,
      "max_width": null,
      "min_height": null,
      "min_width": null,
      "object_fit": null,
      "object_position": null,
      "order": null,
      "overflow": null,
      "overflow_x": null,
      "overflow_y": null,
      "padding": null,
      "right": null,
      "top": null,
      "visibility": null,
      "width": null
     }
    }
   }
  }
 },
 "nbformat": 4,
 "nbformat_minor": 4
}
